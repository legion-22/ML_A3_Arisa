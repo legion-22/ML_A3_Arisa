{
 "cells": [
  {
   "cell_type": "markdown",
   "metadata": {},
   "source": [
    "## A3: Predicting Car Price"
   ]
  },
  {
   "cell_type": "markdown",
   "metadata": {},
   "source": [
    "From A1 and A2, I have preprocessed as follows:"
   ]
  },
  {
   "cell_type": "markdown",
   "metadata": {},
   "source": [
    "#### 1. Import libraries and check version libraries"
   ]
  },
  {
   "cell_type": "code",
   "execution_count": 1,
   "metadata": {},
   "outputs": [],
   "source": [
    "import numpy as np\n",
    "import pandas as pd\n",
    "import seaborn as sns\n",
    "import matplotlib.pyplot as plt \n",
    "import warnings\n",
    "import matplotlib\n",
    "import time\n",
    "from sklearn.metrics import classification_report\n",
    "from itertools import combinations_with_replacement\n",
    "warnings.filterwarnings('ignore')"
   ]
  },
  {
   "cell_type": "markdown",
   "metadata": {},
   "source": [
    "#### 2. Load data"
   ]
  },
  {
   "cell_type": "code",
   "execution_count": 2,
   "metadata": {},
   "outputs": [],
   "source": [
    "df = pd.read_csv('Cars.csv')"
   ]
  },
  {
   "cell_type": "code",
   "execution_count": 3,
   "metadata": {},
   "outputs": [
    {
     "data": {
      "text/html": [
       "<div>\n",
       "<style scoped>\n",
       "    .dataframe tbody tr th:only-of-type {\n",
       "        vertical-align: middle;\n",
       "    }\n",
       "\n",
       "    .dataframe tbody tr th {\n",
       "        vertical-align: top;\n",
       "    }\n",
       "\n",
       "    .dataframe thead th {\n",
       "        text-align: right;\n",
       "    }\n",
       "</style>\n",
       "<table border=\"1\" class=\"dataframe\">\n",
       "  <thead>\n",
       "    <tr style=\"text-align: right;\">\n",
       "      <th></th>\n",
       "      <th>name</th>\n",
       "      <th>year</th>\n",
       "      <th>selling_price</th>\n",
       "      <th>km_driven</th>\n",
       "      <th>fuel</th>\n",
       "      <th>seller_type</th>\n",
       "      <th>transmission</th>\n",
       "      <th>owner</th>\n",
       "      <th>mileage</th>\n",
       "      <th>engine</th>\n",
       "      <th>max_power</th>\n",
       "      <th>torque</th>\n",
       "      <th>seats</th>\n",
       "    </tr>\n",
       "  </thead>\n",
       "  <tbody>\n",
       "    <tr>\n",
       "      <th>0</th>\n",
       "      <td>Maruti Swift Dzire VDI</td>\n",
       "      <td>2014</td>\n",
       "      <td>450000</td>\n",
       "      <td>145500</td>\n",
       "      <td>Diesel</td>\n",
       "      <td>Individual</td>\n",
       "      <td>Manual</td>\n",
       "      <td>First Owner</td>\n",
       "      <td>23.4 kmpl</td>\n",
       "      <td>1248 CC</td>\n",
       "      <td>74 bhp</td>\n",
       "      <td>190Nm@ 2000rpm</td>\n",
       "      <td>5.0</td>\n",
       "    </tr>\n",
       "    <tr>\n",
       "      <th>1</th>\n",
       "      <td>Skoda Rapid 1.5 TDI Ambition</td>\n",
       "      <td>2014</td>\n",
       "      <td>370000</td>\n",
       "      <td>120000</td>\n",
       "      <td>Diesel</td>\n",
       "      <td>Individual</td>\n",
       "      <td>Manual</td>\n",
       "      <td>Second Owner</td>\n",
       "      <td>21.14 kmpl</td>\n",
       "      <td>1498 CC</td>\n",
       "      <td>103.52 bhp</td>\n",
       "      <td>250Nm@ 1500-2500rpm</td>\n",
       "      <td>5.0</td>\n",
       "    </tr>\n",
       "    <tr>\n",
       "      <th>2</th>\n",
       "      <td>Honda City 2017-2020 EXi</td>\n",
       "      <td>2006</td>\n",
       "      <td>158000</td>\n",
       "      <td>140000</td>\n",
       "      <td>Petrol</td>\n",
       "      <td>Individual</td>\n",
       "      <td>Manual</td>\n",
       "      <td>Third Owner</td>\n",
       "      <td>17.7 kmpl</td>\n",
       "      <td>1497 CC</td>\n",
       "      <td>78 bhp</td>\n",
       "      <td>12.7@ 2,700(kgm@ rpm)</td>\n",
       "      <td>5.0</td>\n",
       "    </tr>\n",
       "    <tr>\n",
       "      <th>3</th>\n",
       "      <td>Hyundai i20 Sportz Diesel</td>\n",
       "      <td>2010</td>\n",
       "      <td>225000</td>\n",
       "      <td>127000</td>\n",
       "      <td>Diesel</td>\n",
       "      <td>Individual</td>\n",
       "      <td>Manual</td>\n",
       "      <td>First Owner</td>\n",
       "      <td>23.0 kmpl</td>\n",
       "      <td>1396 CC</td>\n",
       "      <td>90 bhp</td>\n",
       "      <td>22.4 kgm at 1750-2750rpm</td>\n",
       "      <td>5.0</td>\n",
       "    </tr>\n",
       "    <tr>\n",
       "      <th>4</th>\n",
       "      <td>Maruti Swift VXI BSIII</td>\n",
       "      <td>2007</td>\n",
       "      <td>130000</td>\n",
       "      <td>120000</td>\n",
       "      <td>Petrol</td>\n",
       "      <td>Individual</td>\n",
       "      <td>Manual</td>\n",
       "      <td>First Owner</td>\n",
       "      <td>16.1 kmpl</td>\n",
       "      <td>1298 CC</td>\n",
       "      <td>88.2 bhp</td>\n",
       "      <td>11.5@ 4,500(kgm@ rpm)</td>\n",
       "      <td>5.0</td>\n",
       "    </tr>\n",
       "  </tbody>\n",
       "</table>\n",
       "</div>"
      ],
      "text/plain": [
       "                           name  year  selling_price  km_driven    fuel  \\\n",
       "0        Maruti Swift Dzire VDI  2014         450000     145500  Diesel   \n",
       "1  Skoda Rapid 1.5 TDI Ambition  2014         370000     120000  Diesel   \n",
       "2      Honda City 2017-2020 EXi  2006         158000     140000  Petrol   \n",
       "3     Hyundai i20 Sportz Diesel  2010         225000     127000  Diesel   \n",
       "4        Maruti Swift VXI BSIII  2007         130000     120000  Petrol   \n",
       "\n",
       "  seller_type transmission         owner     mileage   engine   max_power  \\\n",
       "0  Individual       Manual   First Owner   23.4 kmpl  1248 CC      74 bhp   \n",
       "1  Individual       Manual  Second Owner  21.14 kmpl  1498 CC  103.52 bhp   \n",
       "2  Individual       Manual   Third Owner   17.7 kmpl  1497 CC      78 bhp   \n",
       "3  Individual       Manual   First Owner   23.0 kmpl  1396 CC      90 bhp   \n",
       "4  Individual       Manual   First Owner   16.1 kmpl  1298 CC    88.2 bhp   \n",
       "\n",
       "                     torque  seats  \n",
       "0            190Nm@ 2000rpm    5.0  \n",
       "1       250Nm@ 1500-2500rpm    5.0  \n",
       "2     12.7@ 2,700(kgm@ rpm)    5.0  \n",
       "3  22.4 kgm at 1750-2750rpm    5.0  \n",
       "4     11.5@ 4,500(kgm@ rpm)    5.0  "
      ]
     },
     "execution_count": 3,
     "metadata": {},
     "output_type": "execute_result"
    }
   ],
   "source": [
    "# print the first rows of data\n",
    "df.head()"
   ]
  },
  {
   "cell_type": "code",
   "execution_count": 4,
   "metadata": {},
   "outputs": [
    {
     "data": {
      "text/plain": [
       "(8128, 13)"
      ]
     },
     "execution_count": 4,
     "metadata": {},
     "output_type": "execute_result"
    }
   ],
   "source": [
    "# Check the shape of data\n",
    "df.shape"
   ]
  },
  {
   "cell_type": "code",
   "execution_count": 5,
   "metadata": {},
   "outputs": [
    {
     "data": {
      "text/html": [
       "<div>\n",
       "<style scoped>\n",
       "    .dataframe tbody tr th:only-of-type {\n",
       "        vertical-align: middle;\n",
       "    }\n",
       "\n",
       "    .dataframe tbody tr th {\n",
       "        vertical-align: top;\n",
       "    }\n",
       "\n",
       "    .dataframe thead th {\n",
       "        text-align: right;\n",
       "    }\n",
       "</style>\n",
       "<table border=\"1\" class=\"dataframe\">\n",
       "  <thead>\n",
       "    <tr style=\"text-align: right;\">\n",
       "      <th></th>\n",
       "      <th>year</th>\n",
       "      <th>selling_price</th>\n",
       "      <th>km_driven</th>\n",
       "      <th>seats</th>\n",
       "    </tr>\n",
       "  </thead>\n",
       "  <tbody>\n",
       "    <tr>\n",
       "      <th>count</th>\n",
       "      <td>8128.000000</td>\n",
       "      <td>8.128000e+03</td>\n",
       "      <td>8.128000e+03</td>\n",
       "      <td>7907.000000</td>\n",
       "    </tr>\n",
       "    <tr>\n",
       "      <th>mean</th>\n",
       "      <td>2013.804011</td>\n",
       "      <td>6.382718e+05</td>\n",
       "      <td>6.981951e+04</td>\n",
       "      <td>5.416719</td>\n",
       "    </tr>\n",
       "    <tr>\n",
       "      <th>std</th>\n",
       "      <td>4.044249</td>\n",
       "      <td>8.062534e+05</td>\n",
       "      <td>5.655055e+04</td>\n",
       "      <td>0.959588</td>\n",
       "    </tr>\n",
       "    <tr>\n",
       "      <th>min</th>\n",
       "      <td>1983.000000</td>\n",
       "      <td>2.999900e+04</td>\n",
       "      <td>1.000000e+00</td>\n",
       "      <td>2.000000</td>\n",
       "    </tr>\n",
       "    <tr>\n",
       "      <th>25%</th>\n",
       "      <td>2011.000000</td>\n",
       "      <td>2.549990e+05</td>\n",
       "      <td>3.500000e+04</td>\n",
       "      <td>5.000000</td>\n",
       "    </tr>\n",
       "    <tr>\n",
       "      <th>50%</th>\n",
       "      <td>2015.000000</td>\n",
       "      <td>4.500000e+05</td>\n",
       "      <td>6.000000e+04</td>\n",
       "      <td>5.000000</td>\n",
       "    </tr>\n",
       "    <tr>\n",
       "      <th>75%</th>\n",
       "      <td>2017.000000</td>\n",
       "      <td>6.750000e+05</td>\n",
       "      <td>9.800000e+04</td>\n",
       "      <td>5.000000</td>\n",
       "    </tr>\n",
       "    <tr>\n",
       "      <th>max</th>\n",
       "      <td>2020.000000</td>\n",
       "      <td>1.000000e+07</td>\n",
       "      <td>2.360457e+06</td>\n",
       "      <td>14.000000</td>\n",
       "    </tr>\n",
       "  </tbody>\n",
       "</table>\n",
       "</div>"
      ],
      "text/plain": [
       "              year  selling_price     km_driven        seats\n",
       "count  8128.000000   8.128000e+03  8.128000e+03  7907.000000\n",
       "mean   2013.804011   6.382718e+05  6.981951e+04     5.416719\n",
       "std       4.044249   8.062534e+05  5.655055e+04     0.959588\n",
       "min    1983.000000   2.999900e+04  1.000000e+00     2.000000\n",
       "25%    2011.000000   2.549990e+05  3.500000e+04     5.000000\n",
       "50%    2015.000000   4.500000e+05  6.000000e+04     5.000000\n",
       "75%    2017.000000   6.750000e+05  9.800000e+04     5.000000\n",
       "max    2020.000000   1.000000e+07  2.360457e+06    14.000000"
      ]
     },
     "execution_count": 5,
     "metadata": {},
     "output_type": "execute_result"
    }
   ],
   "source": [
    "# Show basic statistics (count, mean, std, min, max, percentile)\n",
    "df.describe()"
   ]
  },
  {
   "cell_type": "code",
   "execution_count": 6,
   "metadata": {},
   "outputs": [
    {
     "name": "stdout",
     "output_type": "stream",
     "text": [
      "<class 'pandas.core.frame.DataFrame'>\n",
      "RangeIndex: 8128 entries, 0 to 8127\n",
      "Data columns (total 13 columns):\n",
      " #   Column         Non-Null Count  Dtype  \n",
      "---  ------         --------------  -----  \n",
      " 0   name           8128 non-null   object \n",
      " 1   year           8128 non-null   int64  \n",
      " 2   selling_price  8128 non-null   int64  \n",
      " 3   km_driven      8128 non-null   int64  \n",
      " 4   fuel           8128 non-null   object \n",
      " 5   seller_type    8128 non-null   object \n",
      " 6   transmission   8128 non-null   object \n",
      " 7   owner          8128 non-null   object \n",
      " 8   mileage        7907 non-null   object \n",
      " 9   engine         7907 non-null   object \n",
      " 10  max_power      7913 non-null   object \n",
      " 11  torque         7906 non-null   object \n",
      " 12  seats          7907 non-null   float64\n",
      "dtypes: float64(1), int64(3), object(9)\n",
      "memory usage: 825.6+ KB\n"
     ]
    }
   ],
   "source": [
    "# Check Dtypes of input data\n",
    "df.info()"
   ]
  },
  {
   "cell_type": "code",
   "execution_count": 7,
   "metadata": {},
   "outputs": [
    {
     "data": {
      "text/plain": [
       "Index(['name', 'year', 'selling_price', 'km_driven', 'fuel', 'seller_type',\n",
       "       'transmission', 'owner', 'mileage', 'engine', 'max_power', 'torque',\n",
       "       'seats'],\n",
       "      dtype='object')"
      ]
     },
     "execution_count": 7,
     "metadata": {},
     "output_type": "execute_result"
    }
   ],
   "source": [
    "# Check the column names\n",
    "df.columns"
   ]
  },
  {
   "cell_type": "markdown",
   "metadata": {},
   "source": [
    "#### 3. Data cleaning and preprocessing"
   ]
  },
  {
   "cell_type": "markdown",
   "metadata": {},
   "source": [
    "- For the feature owner, map First owner to 1, ..., Test Drive Car to 5"
   ]
  },
  {
   "cell_type": "code",
   "execution_count": 8,
   "metadata": {},
   "outputs": [
    {
     "name": "stdout",
     "output_type": "stream",
     "text": [
      "[1 2 3 4 5]\n"
     ]
    }
   ],
   "source": [
    "# Define the custom mapping\n",
    "owner_mapping = {\n",
    "    'First Owner': 1,\n",
    "    'Second Owner': 2,\n",
    "    'Third Owner': 3,\n",
    "    'Fourth & Above Owner': 4,\n",
    "    'Test Drive Car': 5\n",
    "}\n",
    "\n",
    "df[\"owner\"] = df[\"owner\"].map(owner_mapping)    # Apply the mapping to the 'owner' column\n",
    "print(df[\"owner\"].unique()) # Display unique mapped"
   ]
  },
  {
   "cell_type": "code",
   "execution_count": 9,
   "metadata": {},
   "outputs": [
    {
     "data": {
      "text/html": [
       "<div>\n",
       "<style scoped>\n",
       "    .dataframe tbody tr th:only-of-type {\n",
       "        vertical-align: middle;\n",
       "    }\n",
       "\n",
       "    .dataframe tbody tr th {\n",
       "        vertical-align: top;\n",
       "    }\n",
       "\n",
       "    .dataframe thead th {\n",
       "        text-align: right;\n",
       "    }\n",
       "</style>\n",
       "<table border=\"1\" class=\"dataframe\">\n",
       "  <thead>\n",
       "    <tr style=\"text-align: right;\">\n",
       "      <th></th>\n",
       "      <th>name</th>\n",
       "      <th>year</th>\n",
       "      <th>selling_price</th>\n",
       "      <th>km_driven</th>\n",
       "      <th>fuel</th>\n",
       "      <th>seller_type</th>\n",
       "      <th>transmission</th>\n",
       "      <th>owner</th>\n",
       "      <th>mileage</th>\n",
       "      <th>engine</th>\n",
       "      <th>max_power</th>\n",
       "      <th>torque</th>\n",
       "      <th>seats</th>\n",
       "    </tr>\n",
       "  </thead>\n",
       "  <tbody>\n",
       "    <tr>\n",
       "      <th>0</th>\n",
       "      <td>Maruti Swift Dzire VDI</td>\n",
       "      <td>2014</td>\n",
       "      <td>450000</td>\n",
       "      <td>145500</td>\n",
       "      <td>Diesel</td>\n",
       "      <td>Individual</td>\n",
       "      <td>Manual</td>\n",
       "      <td>1</td>\n",
       "      <td>23.4 kmpl</td>\n",
       "      <td>1248 CC</td>\n",
       "      <td>74 bhp</td>\n",
       "      <td>190Nm@ 2000rpm</td>\n",
       "      <td>5.0</td>\n",
       "    </tr>\n",
       "    <tr>\n",
       "      <th>1</th>\n",
       "      <td>Skoda Rapid 1.5 TDI Ambition</td>\n",
       "      <td>2014</td>\n",
       "      <td>370000</td>\n",
       "      <td>120000</td>\n",
       "      <td>Diesel</td>\n",
       "      <td>Individual</td>\n",
       "      <td>Manual</td>\n",
       "      <td>2</td>\n",
       "      <td>21.14 kmpl</td>\n",
       "      <td>1498 CC</td>\n",
       "      <td>103.52 bhp</td>\n",
       "      <td>250Nm@ 1500-2500rpm</td>\n",
       "      <td>5.0</td>\n",
       "    </tr>\n",
       "    <tr>\n",
       "      <th>2</th>\n",
       "      <td>Honda City 2017-2020 EXi</td>\n",
       "      <td>2006</td>\n",
       "      <td>158000</td>\n",
       "      <td>140000</td>\n",
       "      <td>Petrol</td>\n",
       "      <td>Individual</td>\n",
       "      <td>Manual</td>\n",
       "      <td>3</td>\n",
       "      <td>17.7 kmpl</td>\n",
       "      <td>1497 CC</td>\n",
       "      <td>78 bhp</td>\n",
       "      <td>12.7@ 2,700(kgm@ rpm)</td>\n",
       "      <td>5.0</td>\n",
       "    </tr>\n",
       "    <tr>\n",
       "      <th>3</th>\n",
       "      <td>Hyundai i20 Sportz Diesel</td>\n",
       "      <td>2010</td>\n",
       "      <td>225000</td>\n",
       "      <td>127000</td>\n",
       "      <td>Diesel</td>\n",
       "      <td>Individual</td>\n",
       "      <td>Manual</td>\n",
       "      <td>1</td>\n",
       "      <td>23.0 kmpl</td>\n",
       "      <td>1396 CC</td>\n",
       "      <td>90 bhp</td>\n",
       "      <td>22.4 kgm at 1750-2750rpm</td>\n",
       "      <td>5.0</td>\n",
       "    </tr>\n",
       "    <tr>\n",
       "      <th>4</th>\n",
       "      <td>Maruti Swift VXI BSIII</td>\n",
       "      <td>2007</td>\n",
       "      <td>130000</td>\n",
       "      <td>120000</td>\n",
       "      <td>Petrol</td>\n",
       "      <td>Individual</td>\n",
       "      <td>Manual</td>\n",
       "      <td>1</td>\n",
       "      <td>16.1 kmpl</td>\n",
       "      <td>1298 CC</td>\n",
       "      <td>88.2 bhp</td>\n",
       "      <td>11.5@ 4,500(kgm@ rpm)</td>\n",
       "      <td>5.0</td>\n",
       "    </tr>\n",
       "  </tbody>\n",
       "</table>\n",
       "</div>"
      ],
      "text/plain": [
       "                           name  year  selling_price  km_driven    fuel  \\\n",
       "0        Maruti Swift Dzire VDI  2014         450000     145500  Diesel   \n",
       "1  Skoda Rapid 1.5 TDI Ambition  2014         370000     120000  Diesel   \n",
       "2      Honda City 2017-2020 EXi  2006         158000     140000  Petrol   \n",
       "3     Hyundai i20 Sportz Diesel  2010         225000     127000  Diesel   \n",
       "4        Maruti Swift VXI BSIII  2007         130000     120000  Petrol   \n",
       "\n",
       "  seller_type transmission  owner     mileage   engine   max_power  \\\n",
       "0  Individual       Manual      1   23.4 kmpl  1248 CC      74 bhp   \n",
       "1  Individual       Manual      2  21.14 kmpl  1498 CC  103.52 bhp   \n",
       "2  Individual       Manual      3   17.7 kmpl  1497 CC      78 bhp   \n",
       "3  Individual       Manual      1   23.0 kmpl  1396 CC      90 bhp   \n",
       "4  Individual       Manual      1   16.1 kmpl  1298 CC    88.2 bhp   \n",
       "\n",
       "                     torque  seats  \n",
       "0            190Nm@ 2000rpm    5.0  \n",
       "1       250Nm@ 1500-2500rpm    5.0  \n",
       "2     12.7@ 2,700(kgm@ rpm)    5.0  \n",
       "3  22.4 kgm at 1750-2750rpm    5.0  \n",
       "4     11.5@ 4,500(kgm@ rpm)    5.0  "
      ]
     },
     "execution_count": 9,
     "metadata": {},
     "output_type": "execute_result"
    }
   ],
   "source": [
    "# Check data after mapping\n",
    "df.head()"
   ]
  },
  {
   "cell_type": "markdown",
   "metadata": {},
   "source": [
    "- For the feature fuel, remove all rows with CNG and LPG because CNG and LPG use a different mileage system i.e., km/kg which is different from kmpl for Diesel and Petrol"
   ]
  },
  {
   "cell_type": "code",
   "execution_count": 10,
   "metadata": {},
   "outputs": [
    {
     "data": {
      "text/plain": [
       "<Axes: xlabel='fuel', ylabel='count'>"
      ]
     },
     "execution_count": 10,
     "metadata": {},
     "output_type": "execute_result"
    },
    {
     "data": {
      "image/png": "[encoded data removed]",
      "text/plain": [
       "<Figure size 640x480 with 1 Axes>"
      ]
     },
     "metadata": {},
     "output_type": "display_data"
    }
   ],
   "source": [
    "# Check number of row are CNG and LPG\n",
    "sns.countplot(data = df, x = 'fuel')"
   ]
  },
  {
   "cell_type": "code",
   "execution_count": 11,
   "metadata": {},
   "outputs": [
    {
     "name": "stdout",
     "output_type": "stream",
     "text": [
      "Number of rows to drop: 95\n",
      "Index to drop: [6, 35, 90, 203, 402, 866, 870, 1225, 1239, 1350, 1511, 1658, 1907, 2047, 2108, 2166, 2253, 2312, 2466, 2481, 2484, 2513, 2518, 2525, 2527, 2573, 2579, 2588, 2613, 2618, 2730, 2740, 2758, 2767, 3010, 3042, 3050, 3200, 3216, 3306, 3466, 3492, 3751, 3796, 3823, 3826, 3853, 3908, 3912, 3956, 4004, 4045, 4542, 4545, 4933, 5034, 5057, 5133, 5185, 5198, 5199, 5206, 5277, 5322, 5436, 5437, 5457, 5532, 5557, 5578, 5749, 5768, 5784, 5789, 5792, 5793, 5815, 6007, 6253, 6338, 6488, 6536, 6651, 6856, 7040, 7101, 7112, 7166, 7245, 7300, 7308, 7543, 7642, 7733, 7913]\n"
     ]
    }
   ],
   "source": [
    "# Check what index in the fuel column contains a value for CNG or LPG\n",
    "index_to_drop = df[df[\"fuel\"].isin([\"CNG\", \"LPG\"])].index\n",
    "\n",
    "# Count number of rows\n",
    "num_to_drop = len(index_to_drop)\n",
    "\n",
    "# Show number of rows must remove and show the index contains a value for CNG or LPG\n",
    "print(f\"Number of rows to drop: {num_to_drop}\")\n",
    "print(f\"Index to drop: {index_to_drop.tolist()}\")"
   ]
  },
  {
   "cell_type": "code",
   "execution_count": 12,
   "metadata": {},
   "outputs": [
    {
     "name": "stdout",
     "output_type": "stream",
     "text": [
      "Rows before drop: 8128\n",
      "Rows after drop: 8033\n"
     ]
    }
   ],
   "source": [
    "rows_before = len(df)   # Before remove\n",
    "df = df.drop(index_to_drop) # Remove row are CNG and LPG\n",
    "rows_after = len(df)    # After remove\n",
    "\n",
    "print(f\"Rows before drop: {rows_before}\")\n",
    "print(f\"Rows after drop: {rows_after}\")"
   ]
  },
  {
   "cell_type": "markdown",
   "metadata": {},
   "source": [
    "- For the feature mileage, remove “kmpl” and convert the column to numerical type (e.g., float). Hint: use df.mileage.str.split"
   ]
  },
  {
   "cell_type": "code",
   "execution_count": 13,
   "metadata": {},
   "outputs": [],
   "source": [
    "df[\"mileage\"] = df[\"mileage\"].str.split(\" \").str[0].astype(float)   # Split by space and keep only the first part"
   ]
  },
  {
   "cell_type": "code",
   "execution_count": 14,
   "metadata": {},
   "outputs": [
    {
     "data": {
      "text/html": [
       "<div>\n",
       "<style scoped>\n",
       "    .dataframe tbody tr th:only-of-type {\n",
       "        vertical-align: middle;\n",
       "    }\n",
       "\n",
       "    .dataframe tbody tr th {\n",
       "        vertical-align: top;\n",
       "    }\n",
       "\n",
       "    .dataframe thead th {\n",
       "        text-align: right;\n",
       "    }\n",
       "</style>\n",
       "<table border=\"1\" class=\"dataframe\">\n",
       "  <thead>\n",
       "    <tr style=\"text-align: right;\">\n",
       "      <th></th>\n",
       "      <th>name</th>\n",
       "      <th>year</th>\n",
       "      <th>selling_price</th>\n",
       "      <th>km_driven</th>\n",
       "      <th>fuel</th>\n",
       "      <th>seller_type</th>\n",
       "      <th>transmission</th>\n",
       "      <th>owner</th>\n",
       "      <th>mileage</th>\n",
       "      <th>engine</th>\n",
       "      <th>max_power</th>\n",
       "      <th>torque</th>\n",
       "      <th>seats</th>\n",
       "    </tr>\n",
       "  </thead>\n",
       "  <tbody>\n",
       "    <tr>\n",
       "      <th>0</th>\n",
       "      <td>Maruti Swift Dzire VDI</td>\n",
       "      <td>2014</td>\n",
       "      <td>450000</td>\n",
       "      <td>145500</td>\n",
       "      <td>Diesel</td>\n",
       "      <td>Individual</td>\n",
       "      <td>Manual</td>\n",
       "      <td>1</td>\n",
       "      <td>23.40</td>\n",
       "      <td>1248 CC</td>\n",
       "      <td>74 bhp</td>\n",
       "      <td>190Nm@ 2000rpm</td>\n",
       "      <td>5.0</td>\n",
       "    </tr>\n",
       "    <tr>\n",
       "      <th>1</th>\n",
       "      <td>Skoda Rapid 1.5 TDI Ambition</td>\n",
       "      <td>2014</td>\n",
       "      <td>370000</td>\n",
       "      <td>120000</td>\n",
       "      <td>Diesel</td>\n",
       "      <td>Individual</td>\n",
       "      <td>Manual</td>\n",
       "      <td>2</td>\n",
       "      <td>21.14</td>\n",
       "      <td>1498 CC</td>\n",
       "      <td>103.52 bhp</td>\n",
       "      <td>250Nm@ 1500-2500rpm</td>\n",
       "      <td>5.0</td>\n",
       "    </tr>\n",
       "    <tr>\n",
       "      <th>2</th>\n",
       "      <td>Honda City 2017-2020 EXi</td>\n",
       "      <td>2006</td>\n",
       "      <td>158000</td>\n",
       "      <td>140000</td>\n",
       "      <td>Petrol</td>\n",
       "      <td>Individual</td>\n",
       "      <td>Manual</td>\n",
       "      <td>3</td>\n",
       "      <td>17.70</td>\n",
       "      <td>1497 CC</td>\n",
       "      <td>78 bhp</td>\n",
       "      <td>12.7@ 2,700(kgm@ rpm)</td>\n",
       "      <td>5.0</td>\n",
       "    </tr>\n",
       "    <tr>\n",
       "      <th>3</th>\n",
       "      <td>Hyundai i20 Sportz Diesel</td>\n",
       "      <td>2010</td>\n",
       "      <td>225000</td>\n",
       "      <td>127000</td>\n",
       "      <td>Diesel</td>\n",
       "      <td>Individual</td>\n",
       "      <td>Manual</td>\n",
       "      <td>1</td>\n",
       "      <td>23.00</td>\n",
       "      <td>1396 CC</td>\n",
       "      <td>90 bhp</td>\n",
       "      <td>22.4 kgm at 1750-2750rpm</td>\n",
       "      <td>5.0</td>\n",
       "    </tr>\n",
       "    <tr>\n",
       "      <th>4</th>\n",
       "      <td>Maruti Swift VXI BSIII</td>\n",
       "      <td>2007</td>\n",
       "      <td>130000</td>\n",
       "      <td>120000</td>\n",
       "      <td>Petrol</td>\n",
       "      <td>Individual</td>\n",
       "      <td>Manual</td>\n",
       "      <td>1</td>\n",
       "      <td>16.10</td>\n",
       "      <td>1298 CC</td>\n",
       "      <td>88.2 bhp</td>\n",
       "      <td>11.5@ 4,500(kgm@ rpm)</td>\n",
       "      <td>5.0</td>\n",
       "    </tr>\n",
       "  </tbody>\n",
       "</table>\n",
       "</div>"
      ],
      "text/plain": [
       "                           name  year  selling_price  km_driven    fuel  \\\n",
       "0        Maruti Swift Dzire VDI  2014         450000     145500  Diesel   \n",
       "1  Skoda Rapid 1.5 TDI Ambition  2014         370000     120000  Diesel   \n",
       "2      Honda City 2017-2020 EXi  2006         158000     140000  Petrol   \n",
       "3     Hyundai i20 Sportz Diesel  2010         225000     127000  Diesel   \n",
       "4        Maruti Swift VXI BSIII  2007         130000     120000  Petrol   \n",
       "\n",
       "  seller_type transmission  owner  mileage   engine   max_power  \\\n",
       "0  Individual       Manual      1    23.40  1248 CC      74 bhp   \n",
       "1  Individual       Manual      2    21.14  1498 CC  103.52 bhp   \n",
       "2  Individual       Manual      3    17.70  1497 CC      78 bhp   \n",
       "3  Individual       Manual      1    23.00  1396 CC      90 bhp   \n",
       "4  Individual       Manual      1    16.10  1298 CC    88.2 bhp   \n",
       "\n",
       "                     torque  seats  \n",
       "0            190Nm@ 2000rpm    5.0  \n",
       "1       250Nm@ 1500-2500rpm    5.0  \n",
       "2     12.7@ 2,700(kgm@ rpm)    5.0  \n",
       "3  22.4 kgm at 1750-2750rpm    5.0  \n",
       "4     11.5@ 4,500(kgm@ rpm)    5.0  "
      ]
     },
     "execution_count": 14,
     "metadata": {},
     "output_type": "execute_result"
    }
   ],
   "source": [
    "# Check 'mileage' column to verify the transformation\n",
    "df.head()"
   ]
  },
  {
   "cell_type": "code",
   "execution_count": 15,
   "metadata": {},
   "outputs": [
    {
     "name": "stdout",
     "output_type": "stream",
     "text": [
      "float64\n"
     ]
    }
   ],
   "source": [
    "# Check the data type\n",
    "print(df[\"mileage\"].dtypes)"
   ]
  },
  {
   "cell_type": "markdown",
   "metadata": {},
   "source": [
    "- For the feature engine, remove “CC” and convert the column to numerical type (e.g., float)"
   ]
  },
  {
   "cell_type": "code",
   "execution_count": 16,
   "metadata": {},
   "outputs": [],
   "source": [
    "df[\"engine\"] = df[\"engine\"].str.split(\" \").str[0].astype(float)   # Split by space and keep only the first part"
   ]
  },
  {
   "cell_type": "code",
   "execution_count": 17,
   "metadata": {},
   "outputs": [
    {
     "data": {
      "text/html": [
       "<div>\n",
       "<style scoped>\n",
       "    .dataframe tbody tr th:only-of-type {\n",
       "        vertical-align: middle;\n",
       "    }\n",
       "\n",
       "    .dataframe tbody tr th {\n",
       "        vertical-align: top;\n",
       "    }\n",
       "\n",
       "    .dataframe thead th {\n",
       "        text-align: right;\n",
       "    }\n",
       "</style>\n",
       "<table border=\"1\" class=\"dataframe\">\n",
       "  <thead>\n",
       "    <tr style=\"text-align: right;\">\n",
       "      <th></th>\n",
       "      <th>name</th>\n",
       "      <th>year</th>\n",
       "      <th>selling_price</th>\n",
       "      <th>km_driven</th>\n",
       "      <th>fuel</th>\n",
       "      <th>seller_type</th>\n",
       "      <th>transmission</th>\n",
       "      <th>owner</th>\n",
       "      <th>mileage</th>\n",
       "      <th>engine</th>\n",
       "      <th>max_power</th>\n",
       "      <th>torque</th>\n",
       "      <th>seats</th>\n",
       "    </tr>\n",
       "  </thead>\n",
       "  <tbody>\n",
       "    <tr>\n",
       "      <th>0</th>\n",
       "      <td>Maruti Swift Dzire VDI</td>\n",
       "      <td>2014</td>\n",
       "      <td>450000</td>\n",
       "      <td>145500</td>\n",
       "      <td>Diesel</td>\n",
       "      <td>Individual</td>\n",
       "      <td>Manual</td>\n",
       "      <td>1</td>\n",
       "      <td>23.40</td>\n",
       "      <td>1248.0</td>\n",
       "      <td>74 bhp</td>\n",
       "      <td>190Nm@ 2000rpm</td>\n",
       "      <td>5.0</td>\n",
       "    </tr>\n",
       "    <tr>\n",
       "      <th>1</th>\n",
       "      <td>Skoda Rapid 1.5 TDI Ambition</td>\n",
       "      <td>2014</td>\n",
       "      <td>370000</td>\n",
       "      <td>120000</td>\n",
       "      <td>Diesel</td>\n",
       "      <td>Individual</td>\n",
       "      <td>Manual</td>\n",
       "      <td>2</td>\n",
       "      <td>21.14</td>\n",
       "      <td>1498.0</td>\n",
       "      <td>103.52 bhp</td>\n",
       "      <td>250Nm@ 1500-2500rpm</td>\n",
       "      <td>5.0</td>\n",
       "    </tr>\n",
       "    <tr>\n",
       "      <th>2</th>\n",
       "      <td>Honda City 2017-2020 EXi</td>\n",
       "      <td>2006</td>\n",
       "      <td>158000</td>\n",
       "      <td>140000</td>\n",
       "      <td>Petrol</td>\n",
       "      <td>Individual</td>\n",
       "      <td>Manual</td>\n",
       "      <td>3</td>\n",
       "      <td>17.70</td>\n",
       "      <td>1497.0</td>\n",
       "      <td>78 bhp</td>\n",
       "      <td>12.7@ 2,700(kgm@ rpm)</td>\n",
       "      <td>5.0</td>\n",
       "    </tr>\n",
       "    <tr>\n",
       "      <th>3</th>\n",
       "      <td>Hyundai i20 Sportz Diesel</td>\n",
       "      <td>2010</td>\n",
       "      <td>225000</td>\n",
       "      <td>127000</td>\n",
       "      <td>Diesel</td>\n",
       "      <td>Individual</td>\n",
       "      <td>Manual</td>\n",
       "      <td>1</td>\n",
       "      <td>23.00</td>\n",
       "      <td>1396.0</td>\n",
       "      <td>90 bhp</td>\n",
       "      <td>22.4 kgm at 1750-2750rpm</td>\n",
       "      <td>5.0</td>\n",
       "    </tr>\n",
       "    <tr>\n",
       "      <th>4</th>\n",
       "      <td>Maruti Swift VXI BSIII</td>\n",
       "      <td>2007</td>\n",
       "      <td>130000</td>\n",
       "      <td>120000</td>\n",
       "      <td>Petrol</td>\n",
       "      <td>Individual</td>\n",
       "      <td>Manual</td>\n",
       "      <td>1</td>\n",
       "      <td>16.10</td>\n",
       "      <td>1298.0</td>\n",
       "      <td>88.2 bhp</td>\n",
       "      <td>11.5@ 4,500(kgm@ rpm)</td>\n",
       "      <td>5.0</td>\n",
       "    </tr>\n",
       "  </tbody>\n",
       "</table>\n",
       "</div>"
      ],
      "text/plain": [
       "                           name  year  selling_price  km_driven    fuel  \\\n",
       "0        Maruti Swift Dzire VDI  2014         450000     145500  Diesel   \n",
       "1  Skoda Rapid 1.5 TDI Ambition  2014         370000     120000  Diesel   \n",
       "2      Honda City 2017-2020 EXi  2006         158000     140000  Petrol   \n",
       "3     Hyundai i20 Sportz Diesel  2010         225000     127000  Diesel   \n",
       "4        Maruti Swift VXI BSIII  2007         130000     120000  Petrol   \n",
       "\n",
       "  seller_type transmission  owner  mileage  engine   max_power  \\\n",
       "0  Individual       Manual      1    23.40  1248.0      74 bhp   \n",
       "1  Individual       Manual      2    21.14  1498.0  103.52 bhp   \n",
       "2  Individual       Manual      3    17.70  1497.0      78 bhp   \n",
       "3  Individual       Manual      1    23.00  1396.0      90 bhp   \n",
       "4  Individual       Manual      1    16.10  1298.0    88.2 bhp   \n",
       "\n",
       "                     torque  seats  \n",
       "0            190Nm@ 2000rpm    5.0  \n",
       "1       250Nm@ 1500-2500rpm    5.0  \n",
       "2     12.7@ 2,700(kgm@ rpm)    5.0  \n",
       "3  22.4 kgm at 1750-2750rpm    5.0  \n",
       "4     11.5@ 4,500(kgm@ rpm)    5.0  "
      ]
     },
     "execution_count": 17,
     "metadata": {},
     "output_type": "execute_result"
    }
   ],
   "source": [
    "# Check 'engine' column to verify the transformation\n",
    "df.head()"
   ]
  },
  {
   "cell_type": "code",
   "execution_count": 18,
   "metadata": {},
   "outputs": [
    {
     "name": "stdout",
     "output_type": "stream",
     "text": [
      "float64\n"
     ]
    }
   ],
   "source": [
    "# Check the data type\n",
    "print(df[\"engine\"].dtypes)"
   ]
  },
  {
   "cell_type": "markdown",
   "metadata": {},
   "source": [
    "- For the feature max_power, remove “bhp” and convert the column to numerical type (e.g., float)"
   ]
  },
  {
   "cell_type": "code",
   "execution_count": 19,
   "metadata": {},
   "outputs": [],
   "source": [
    "df[\"max_power\"] = df[\"max_power\"].str.split(\" \").str[0].astype(float)   # Split by space and keep only the first part"
   ]
  },
  {
   "cell_type": "code",
   "execution_count": 20,
   "metadata": {},
   "outputs": [
    {
     "data": {
      "text/html": [
       "<div>\n",
       "<style scoped>\n",
       "    .dataframe tbody tr th:only-of-type {\n",
       "        vertical-align: middle;\n",
       "    }\n",
       "\n",
       "    .dataframe tbody tr th {\n",
       "        vertical-align: top;\n",
       "    }\n",
       "\n",
       "    .dataframe thead th {\n",
       "        text-align: right;\n",
       "    }\n",
       "</style>\n",
       "<table border=\"1\" class=\"dataframe\">\n",
       "  <thead>\n",
       "    <tr style=\"text-align: right;\">\n",
       "      <th></th>\n",
       "      <th>name</th>\n",
       "      <th>year</th>\n",
       "      <th>selling_price</th>\n",
       "      <th>km_driven</th>\n",
       "      <th>fuel</th>\n",
       "      <th>seller_type</th>\n",
       "      <th>transmission</th>\n",
       "      <th>owner</th>\n",
       "      <th>mileage</th>\n",
       "      <th>engine</th>\n",
       "      <th>max_power</th>\n",
       "      <th>torque</th>\n",
       "      <th>seats</th>\n",
       "    </tr>\n",
       "  </thead>\n",
       "  <tbody>\n",
       "    <tr>\n",
       "      <th>0</th>\n",
       "      <td>Maruti Swift Dzire VDI</td>\n",
       "      <td>2014</td>\n",
       "      <td>450000</td>\n",
       "      <td>145500</td>\n",
       "      <td>Diesel</td>\n",
       "      <td>Individual</td>\n",
       "      <td>Manual</td>\n",
       "      <td>1</td>\n",
       "      <td>23.40</td>\n",
       "      <td>1248.0</td>\n",
       "      <td>74.00</td>\n",
       "      <td>190Nm@ 2000rpm</td>\n",
       "      <td>5.0</td>\n",
       "    </tr>\n",
       "    <tr>\n",
       "      <th>1</th>\n",
       "      <td>Skoda Rapid 1.5 TDI Ambition</td>\n",
       "      <td>2014</td>\n",
       "      <td>370000</td>\n",
       "      <td>120000</td>\n",
       "      <td>Diesel</td>\n",
       "      <td>Individual</td>\n",
       "      <td>Manual</td>\n",
       "      <td>2</td>\n",
       "      <td>21.14</td>\n",
       "      <td>1498.0</td>\n",
       "      <td>103.52</td>\n",
       "      <td>250Nm@ 1500-2500rpm</td>\n",
       "      <td>5.0</td>\n",
       "    </tr>\n",
       "    <tr>\n",
       "      <th>2</th>\n",
       "      <td>Honda City 2017-2020 EXi</td>\n",
       "      <td>2006</td>\n",
       "      <td>158000</td>\n",
       "      <td>140000</td>\n",
       "      <td>Petrol</td>\n",
       "      <td>Individual</td>\n",
       "      <td>Manual</td>\n",
       "      <td>3</td>\n",
       "      <td>17.70</td>\n",
       "      <td>1497.0</td>\n",
       "      <td>78.00</td>\n",
       "      <td>12.7@ 2,700(kgm@ rpm)</td>\n",
       "      <td>5.0</td>\n",
       "    </tr>\n",
       "    <tr>\n",
       "      <th>3</th>\n",
       "      <td>Hyundai i20 Sportz Diesel</td>\n",
       "      <td>2010</td>\n",
       "      <td>225000</td>\n",
       "      <td>127000</td>\n",
       "      <td>Diesel</td>\n",
       "      <td>Individual</td>\n",
       "      <td>Manual</td>\n",
       "      <td>1</td>\n",
       "      <td>23.00</td>\n",
       "      <td>1396.0</td>\n",
       "      <td>90.00</td>\n",
       "      <td>22.4 kgm at 1750-2750rpm</td>\n",
       "      <td>5.0</td>\n",
       "    </tr>\n",
       "    <tr>\n",
       "      <th>4</th>\n",
       "      <td>Maruti Swift VXI BSIII</td>\n",
       "      <td>2007</td>\n",
       "      <td>130000</td>\n",
       "      <td>120000</td>\n",
       "      <td>Petrol</td>\n",
       "      <td>Individual</td>\n",
       "      <td>Manual</td>\n",
       "      <td>1</td>\n",
       "      <td>16.10</td>\n",
       "      <td>1298.0</td>\n",
       "      <td>88.20</td>\n",
       "      <td>11.5@ 4,500(kgm@ rpm)</td>\n",
       "      <td>5.0</td>\n",
       "    </tr>\n",
       "  </tbody>\n",
       "</table>\n",
       "</div>"
      ],
      "text/plain": [
       "                           name  year  selling_price  km_driven    fuel  \\\n",
       "0        Maruti Swift Dzire VDI  2014         450000     145500  Diesel   \n",
       "1  Skoda Rapid 1.5 TDI Ambition  2014         370000     120000  Diesel   \n",
       "2      Honda City 2017-2020 EXi  2006         158000     140000  Petrol   \n",
       "3     Hyundai i20 Sportz Diesel  2010         225000     127000  Diesel   \n",
       "4        Maruti Swift VXI BSIII  2007         130000     120000  Petrol   \n",
       "\n",
       "  seller_type transmission  owner  mileage  engine  max_power  \\\n",
       "0  Individual       Manual      1    23.40  1248.0      74.00   \n",
       "1  Individual       Manual      2    21.14  1498.0     103.52   \n",
       "2  Individual       Manual      3    17.70  1497.0      78.00   \n",
       "3  Individual       Manual      1    23.00  1396.0      90.00   \n",
       "4  Individual       Manual      1    16.10  1298.0      88.20   \n",
       "\n",
       "                     torque  seats  \n",
       "0            190Nm@ 2000rpm    5.0  \n",
       "1       250Nm@ 1500-2500rpm    5.0  \n",
       "2     12.7@ 2,700(kgm@ rpm)    5.0  \n",
       "3  22.4 kgm at 1750-2750rpm    5.0  \n",
       "4     11.5@ 4,500(kgm@ rpm)    5.0  "
      ]
     },
     "execution_count": 20,
     "metadata": {},
     "output_type": "execute_result"
    }
   ],
   "source": [
    "# Check 'max_power' column to verify the transformation\n",
    "df.head()"
   ]
  },
  {
   "cell_type": "code",
   "execution_count": 21,
   "metadata": {},
   "outputs": [
    {
     "name": "stdout",
     "output_type": "stream",
     "text": [
      "float64\n"
     ]
    }
   ],
   "source": [
    "# Check the data type\n",
    "print(df[\"max_power\"].dtypes)"
   ]
  },
  {
   "cell_type": "markdown",
   "metadata": {},
   "source": [
    "- Drop unused features"
   ]
  },
  {
   "cell_type": "code",
   "execution_count": 22,
   "metadata": {},
   "outputs": [],
   "source": [
    "df = df.drop('name', axis='columns')\n",
    "df = df.drop('year', axis='columns')\n",
    "df = df.drop('fuel', axis='columns')\n",
    "df = df.drop('seller_type', axis='columns')\n",
    "df = df.drop('transmission', axis='columns')\n",
    "df = df.drop('torque', axis='columns')\n",
    "df = df.drop('seats', axis='columns')"
   ]
  },
  {
   "cell_type": "code",
   "execution_count": 23,
   "metadata": {},
   "outputs": [
    {
     "data": {
      "text/html": [
       "<div>\n",
       "<style scoped>\n",
       "    .dataframe tbody tr th:only-of-type {\n",
       "        vertical-align: middle;\n",
       "    }\n",
       "\n",
       "    .dataframe tbody tr th {\n",
       "        vertical-align: top;\n",
       "    }\n",
       "\n",
       "    .dataframe thead th {\n",
       "        text-align: right;\n",
       "    }\n",
       "</style>\n",
       "<table border=\"1\" class=\"dataframe\">\n",
       "  <thead>\n",
       "    <tr style=\"text-align: right;\">\n",
       "      <th></th>\n",
       "      <th>selling_price</th>\n",
       "      <th>km_driven</th>\n",
       "      <th>owner</th>\n",
       "      <th>mileage</th>\n",
       "      <th>engine</th>\n",
       "      <th>max_power</th>\n",
       "    </tr>\n",
       "  </thead>\n",
       "  <tbody>\n",
       "    <tr>\n",
       "      <th>0</th>\n",
       "      <td>450000</td>\n",
       "      <td>145500</td>\n",
       "      <td>1</td>\n",
       "      <td>23.40</td>\n",
       "      <td>1248.0</td>\n",
       "      <td>74.00</td>\n",
       "    </tr>\n",
       "    <tr>\n",
       "      <th>1</th>\n",
       "      <td>370000</td>\n",
       "      <td>120000</td>\n",
       "      <td>2</td>\n",
       "      <td>21.14</td>\n",
       "      <td>1498.0</td>\n",
       "      <td>103.52</td>\n",
       "    </tr>\n",
       "    <tr>\n",
       "      <th>2</th>\n",
       "      <td>158000</td>\n",
       "      <td>140000</td>\n",
       "      <td>3</td>\n",
       "      <td>17.70</td>\n",
       "      <td>1497.0</td>\n",
       "      <td>78.00</td>\n",
       "    </tr>\n",
       "    <tr>\n",
       "      <th>3</th>\n",
       "      <td>225000</td>\n",
       "      <td>127000</td>\n",
       "      <td>1</td>\n",
       "      <td>23.00</td>\n",
       "      <td>1396.0</td>\n",
       "      <td>90.00</td>\n",
       "    </tr>\n",
       "    <tr>\n",
       "      <th>4</th>\n",
       "      <td>130000</td>\n",
       "      <td>120000</td>\n",
       "      <td>1</td>\n",
       "      <td>16.10</td>\n",
       "      <td>1298.0</td>\n",
       "      <td>88.20</td>\n",
       "    </tr>\n",
       "  </tbody>\n",
       "</table>\n",
       "</div>"
      ],
      "text/plain": [
       "   selling_price  km_driven  owner  mileage  engine  max_power\n",
       "0         450000     145500      1    23.40  1248.0      74.00\n",
       "1         370000     120000      2    21.14  1498.0     103.52\n",
       "2         158000     140000      3    17.70  1497.0      78.00\n",
       "3         225000     127000      1    23.00  1396.0      90.00\n",
       "4         130000     120000      1    16.10  1298.0      88.20"
      ]
     },
     "execution_count": 23,
     "metadata": {},
     "output_type": "execute_result"
    }
   ],
   "source": [
    "# Check after remove column\n",
    "df.head()"
   ]
  },
  {
   "cell_type": "markdown",
   "metadata": {},
   "source": [
    "- Next I will convert the label selling price into discrete variable by simply putting the price in a bucket of 0, 1, 2, 3"
   ]
  },
  {
   "cell_type": "code",
   "execution_count": 24,
   "metadata": {},
   "outputs": [
    {
     "data": {
      "text/plain": [
       "count    8.033000e+03\n",
       "mean     6.427361e+05\n",
       "std      8.098635e+05\n",
       "min      2.999900e+04\n",
       "25%      2.600000e+05\n",
       "50%      4.500000e+05\n",
       "75%      6.800000e+05\n",
       "max      1.000000e+07\n",
       "Name: selling_price, dtype: float64"
      ]
     },
     "execution_count": 24,
     "metadata": {},
     "output_type": "execute_result"
    }
   ],
   "source": [
    "# Check min-max selling_price\n",
    "df['selling_price'].describe()"
   ]
  },
  {
   "cell_type": "markdown",
   "metadata": {},
   "source": [
    "From data it show, max price is 10,000,000 and min price is 29,999. I use pd.qcut() to divide the selling price into four equal-frequency groups to ensure balanced class distribution."
   ]
  },
  {
   "cell_type": "code",
   "execution_count": 25,
   "metadata": {},
   "outputs": [],
   "source": [
    "df['selling_price'] = pd.qcut(df['selling_price'], q=4, labels=[0, 1, 2, 3])"
   ]
  },
  {
   "cell_type": "code",
   "execution_count": 26,
   "metadata": {},
   "outputs": [
    {
     "data": {
      "text/plain": [
       "selling_price\n",
       "0    2050\n",
       "1    2044\n",
       "3    1996\n",
       "2    1943\n",
       "Name: count, dtype: int64"
      ]
     },
     "execution_count": 26,
     "metadata": {},
     "output_type": "execute_result"
    }
   ],
   "source": [
    "# Check the distribution of each groups\n",
    "df['selling_price'].value_counts()"
   ]
  },
  {
   "cell_type": "markdown",
   "metadata": {},
   "source": [
    "The selling prices were divided into four equally frequent groups using pd.qcut() to maintain class balance for classification. Class 0 represents the cheapest cars, while Class 3 represents the most expensive ones, as the selling prices were divided using pd.qcut() in ascending order."
   ]
  },
  {
   "cell_type": "code",
   "execution_count": 27,
   "metadata": {},
   "outputs": [
    {
     "data": {
      "text/html": [
       "<div>\n",
       "<style scoped>\n",
       "    .dataframe tbody tr th:only-of-type {\n",
       "        vertical-align: middle;\n",
       "    }\n",
       "\n",
       "    .dataframe tbody tr th {\n",
       "        vertical-align: top;\n",
       "    }\n",
       "\n",
       "    .dataframe thead th {\n",
       "        text-align: right;\n",
       "    }\n",
       "</style>\n",
       "<table border=\"1\" class=\"dataframe\">\n",
       "  <thead>\n",
       "    <tr style=\"text-align: right;\">\n",
       "      <th></th>\n",
       "      <th>selling_price</th>\n",
       "      <th>km_driven</th>\n",
       "      <th>owner</th>\n",
       "      <th>mileage</th>\n",
       "      <th>engine</th>\n",
       "      <th>max_power</th>\n",
       "    </tr>\n",
       "  </thead>\n",
       "  <tbody>\n",
       "    <tr>\n",
       "      <th>0</th>\n",
       "      <td>1</td>\n",
       "      <td>145500</td>\n",
       "      <td>1</td>\n",
       "      <td>23.40</td>\n",
       "      <td>1248.0</td>\n",
       "      <td>74.00</td>\n",
       "    </tr>\n",
       "    <tr>\n",
       "      <th>1</th>\n",
       "      <td>1</td>\n",
       "      <td>120000</td>\n",
       "      <td>2</td>\n",
       "      <td>21.14</td>\n",
       "      <td>1498.0</td>\n",
       "      <td>103.52</td>\n",
       "    </tr>\n",
       "    <tr>\n",
       "      <th>2</th>\n",
       "      <td>0</td>\n",
       "      <td>140000</td>\n",
       "      <td>3</td>\n",
       "      <td>17.70</td>\n",
       "      <td>1497.0</td>\n",
       "      <td>78.00</td>\n",
       "    </tr>\n",
       "    <tr>\n",
       "      <th>3</th>\n",
       "      <td>0</td>\n",
       "      <td>127000</td>\n",
       "      <td>1</td>\n",
       "      <td>23.00</td>\n",
       "      <td>1396.0</td>\n",
       "      <td>90.00</td>\n",
       "    </tr>\n",
       "    <tr>\n",
       "      <th>4</th>\n",
       "      <td>0</td>\n",
       "      <td>120000</td>\n",
       "      <td>1</td>\n",
       "      <td>16.10</td>\n",
       "      <td>1298.0</td>\n",
       "      <td>88.20</td>\n",
       "    </tr>\n",
       "  </tbody>\n",
       "</table>\n",
       "</div>"
      ],
      "text/plain": [
       "  selling_price  km_driven  owner  mileage  engine  max_power\n",
       "0             1     145500      1    23.40  1248.0      74.00\n",
       "1             1     120000      2    21.14  1498.0     103.52\n",
       "2             0     140000      3    17.70  1497.0      78.00\n",
       "3             0     127000      1    23.00  1396.0      90.00\n",
       "4             0     120000      1    16.10  1298.0      88.20"
      ]
     },
     "execution_count": 27,
     "metadata": {},
     "output_type": "execute_result"
    }
   ],
   "source": [
    "df.head()"
   ]
  },
  {
   "cell_type": "markdown",
   "metadata": {},
   "source": [
    "- You will found out that Test Drive Cars are ridiculously expensive. Since we do not want to involve this, we will simply delete all samples related to it."
   ]
  },
  {
   "cell_type": "code",
   "execution_count": 28,
   "metadata": {},
   "outputs": [
    {
     "data": {
      "text/plain": [
       "dtype('int64')"
      ]
     },
     "execution_count": 28,
     "metadata": {},
     "output_type": "execute_result"
    },
    {
     "data": {
      "image/png": "[encoded data removed]",
      "text/plain": [
       "<Figure size 640x480 with 1 Axes>"
      ]
     },
     "metadata": {},
     "output_type": "display_data"
    }
   ],
   "source": [
    "# Check number of row are \"Test Drive Cars\"\n",
    "sns.countplot(data = df, x = 'owner')\n",
    "\n",
    "'''\n",
    "For mapping\n",
    "    'First Owner': 1,\n",
    "    'Second Owner': 2,\n",
    "    'Third Owner': 3,\n",
    "    'Fourth & Above Owner': 4,\n",
    "    'Test Drive Car': 5\n",
    "'''\n",
    "\n",
    "df[\"owner\"].dtypes"
   ]
  },
  {
   "cell_type": "code",
   "execution_count": 29,
   "metadata": {},
   "outputs": [
    {
     "name": "stdout",
     "output_type": "stream",
     "text": [
      "Number of rows to drop: 5\n",
      "Index to drop: [4383, 4950, 4951, 4952, 6220]\n"
     ]
    }
   ],
   "source": [
    "# Check what index in the owner column contains a value '5'\n",
    "index_to_drop_owner = df[df[\"owner\"].isin([5])].index\n",
    "\n",
    "# Count number of rows\n",
    "num_to_drop_owner = len(index_to_drop_owner)\n",
    "\n",
    "# Show number of rows must remove and show the index contains a value '5'\n",
    "print(f\"Number of rows to drop: {num_to_drop_owner}\")\n",
    "print(f\"Index to drop: {index_to_drop_owner.tolist()}\")"
   ]
  },
  {
   "cell_type": "code",
   "execution_count": 30,
   "metadata": {},
   "outputs": [
    {
     "name": "stdout",
     "output_type": "stream",
     "text": [
      "Rows before drop: 8033\n",
      "Rows after drop: 8028\n"
     ]
    }
   ],
   "source": [
    "rows_before = len(df)   # Before remove\n",
    "df = df.drop(index_to_drop_owner) # Remove row is '5'\n",
    "rows_after = len(df)    # After remove\n",
    "\n",
    "print(f\"Rows before drop: {rows_before}\")\n",
    "print(f\"Rows after drop: {rows_after}\")"
   ]
  },
  {
   "cell_type": "code",
   "execution_count": 31,
   "metadata": {},
   "outputs": [
    {
     "data": {
      "text/plain": [
       "<Axes: xlabel='owner', ylabel='count'>"
      ]
     },
     "execution_count": 31,
     "metadata": {},
     "output_type": "execute_result"
    },
    {
     "data": {
      "image/png": "[encoded data removed]",
      "text/plain": [
       "<Figure size 640x480 with 1 Axes>"
      ]
     },
     "metadata": {},
     "output_type": "display_data"
    }
   ],
   "source": [
    "# Check data again\n",
    "sns.countplot(data = df, x = 'owner')"
   ]
  },
  {
   "cell_type": "markdown",
   "metadata": {},
   "source": [
    "- Check 'selling_price'"
   ]
  },
  {
   "cell_type": "code",
   "execution_count": 32,
   "metadata": {},
   "outputs": [
    {
     "data": {
      "text/plain": [
       "CategoricalDtype(categories=[0, 1, 2, 3], ordered=True, categories_dtype=int64)"
      ]
     },
     "execution_count": 32,
     "metadata": {},
     "output_type": "execute_result"
    },
    {
     "data": {
      "image/png": "[encoded data removed]",
      "text/plain": [
       "<Figure size 640x480 with 1 Axes>"
      ]
     },
     "metadata": {},
     "output_type": "display_data"
    }
   ],
   "source": [
    "sns.countplot(data = df, x = 'selling_price')\n",
    "\n",
    "'''\n",
    "    'cheapest cars': 0,\n",
    "    'most expensive': 3\n",
    "'''\n",
    "\n",
    "df[\"selling_price\"].dtypes"
   ]
  },
  {
   "cell_type": "code",
   "execution_count": 33,
   "metadata": {},
   "outputs": [
    {
     "data": {
      "text/html": [
       "<div>\n",
       "<style scoped>\n",
       "    .dataframe tbody tr th:only-of-type {\n",
       "        vertical-align: middle;\n",
       "    }\n",
       "\n",
       "    .dataframe tbody tr th {\n",
       "        vertical-align: top;\n",
       "    }\n",
       "\n",
       "    .dataframe thead th {\n",
       "        text-align: right;\n",
       "    }\n",
       "</style>\n",
       "<table border=\"1\" class=\"dataframe\">\n",
       "  <thead>\n",
       "    <tr style=\"text-align: right;\">\n",
       "      <th></th>\n",
       "      <th>selling_price</th>\n",
       "      <th>km_driven</th>\n",
       "      <th>owner</th>\n",
       "      <th>mileage</th>\n",
       "      <th>engine</th>\n",
       "      <th>max_power</th>\n",
       "    </tr>\n",
       "  </thead>\n",
       "  <tbody>\n",
       "    <tr>\n",
       "      <th>0</th>\n",
       "      <td>1</td>\n",
       "      <td>145500</td>\n",
       "      <td>1</td>\n",
       "      <td>23.40</td>\n",
       "      <td>1248.0</td>\n",
       "      <td>74.00</td>\n",
       "    </tr>\n",
       "    <tr>\n",
       "      <th>1</th>\n",
       "      <td>1</td>\n",
       "      <td>120000</td>\n",
       "      <td>2</td>\n",
       "      <td>21.14</td>\n",
       "      <td>1498.0</td>\n",
       "      <td>103.52</td>\n",
       "    </tr>\n",
       "    <tr>\n",
       "      <th>2</th>\n",
       "      <td>0</td>\n",
       "      <td>140000</td>\n",
       "      <td>3</td>\n",
       "      <td>17.70</td>\n",
       "      <td>1497.0</td>\n",
       "      <td>78.00</td>\n",
       "    </tr>\n",
       "    <tr>\n",
       "      <th>3</th>\n",
       "      <td>0</td>\n",
       "      <td>127000</td>\n",
       "      <td>1</td>\n",
       "      <td>23.00</td>\n",
       "      <td>1396.0</td>\n",
       "      <td>90.00</td>\n",
       "    </tr>\n",
       "    <tr>\n",
       "      <th>4</th>\n",
       "      <td>0</td>\n",
       "      <td>120000</td>\n",
       "      <td>1</td>\n",
       "      <td>16.10</td>\n",
       "      <td>1298.0</td>\n",
       "      <td>88.20</td>\n",
       "    </tr>\n",
       "  </tbody>\n",
       "</table>\n",
       "</div>"
      ],
      "text/plain": [
       "  selling_price  km_driven  owner  mileage  engine  max_power\n",
       "0             1     145500      1    23.40  1248.0      74.00\n",
       "1             1     120000      2    21.14  1498.0     103.52\n",
       "2             0     140000      3    17.70  1497.0      78.00\n",
       "3             0     127000      1    23.00  1396.0      90.00\n",
       "4             0     120000      1    16.10  1298.0      88.20"
      ]
     },
     "execution_count": 33,
     "metadata": {},
     "output_type": "execute_result"
    }
   ],
   "source": [
    "# Check data\n",
    "df.head()"
   ]
  },
  {
   "cell_type": "markdown",
   "metadata": {},
   "source": [
    "- Feature selection"
   ]
  },
  {
   "cell_type": "code",
   "execution_count": 34,
   "metadata": {},
   "outputs": [],
   "source": [
    "#x is our strong features\n",
    "X = df[        ['km_driven', 'owner', 'mileage', 'engine', 'max_power']        ]\n",
    "\n",
    "#y is simply the selling_price col\n",
    "y = df[\"selling_price\"]"
   ]
  },
  {
   "cell_type": "markdown",
   "metadata": {},
   "source": [
    "- After I get cleaned data I will split data to train set and test set"
   ]
  },
  {
   "cell_type": "code",
   "execution_count": 35,
   "metadata": {},
   "outputs": [],
   "source": [
    "from sklearn.model_selection import train_test_split\n",
    "\n",
    "X_train, X_test, y_train, y_test = train_test_split(X, y, test_size = 0.3, random_state = 42)"
   ]
  },
  {
   "cell_type": "markdown",
   "metadata": {},
   "source": [
    "- Preprocessing train data"
   ]
  },
  {
   "cell_type": "code",
   "execution_count": 36,
   "metadata": {},
   "outputs": [
    {
     "data": {
      "text/plain": [
       "km_driven      0\n",
       "owner          0\n",
       "mileage      154\n",
       "engine       154\n",
       "max_power    149\n",
       "dtype: int64"
      ]
     },
     "execution_count": 36,
     "metadata": {},
     "output_type": "execute_result"
    }
   ],
   "source": [
    "#check for null values\n",
    "X_train[['km_driven', 'owner', 'mileage', 'engine', 'max_power']].isna().sum()"
   ]
  },
  {
   "cell_type": "code",
   "execution_count": 37,
   "metadata": {},
   "outputs": [
    {
     "data": {
      "text/plain": [
       "km_driven     0\n",
       "owner         0\n",
       "mileage      60\n",
       "engine       60\n",
       "max_power    59\n",
       "dtype: int64"
      ]
     },
     "execution_count": 37,
     "metadata": {},
     "output_type": "execute_result"
    }
   ],
   "source": [
    "X_test[['km_driven', 'owner', 'mileage', 'engine', 'max_power']].isna().sum()"
   ]
  },
  {
   "cell_type": "code",
   "execution_count": 38,
   "metadata": {},
   "outputs": [
    {
     "data": {
      "text/plain": [
       "np.int64(0)"
      ]
     },
     "execution_count": 38,
     "metadata": {},
     "output_type": "execute_result"
    }
   ],
   "source": [
    "y_train.isna().sum()"
   ]
  },
  {
   "cell_type": "code",
   "execution_count": 39,
   "metadata": {},
   "outputs": [
    {
     "data": {
      "text/plain": [
       "np.int64(0)"
      ]
     },
     "execution_count": 39,
     "metadata": {},
     "output_type": "execute_result"
    }
   ],
   "source": [
    "y_test.isna().sum()"
   ]
  },
  {
   "cell_type": "markdown",
   "metadata": {},
   "source": [
    "Preprocessing for mileage data"
   ]
  },
  {
   "cell_type": "code",
   "execution_count": 40,
   "metadata": {},
   "outputs": [
    {
     "data": {
      "text/plain": [
       "<seaborn.axisgrid.FacetGrid at 0x171f4e09490>"
      ]
     },
     "execution_count": 40,
     "metadata": {},
     "output_type": "execute_result"
    },
    {
     "data": {
      "image/png": "[encoded data removed]",
      "text/plain": [
       "<Figure size 500x500 with 1 Axes>"
      ]
     },
     "metadata": {},
     "output_type": "display_data"
    }
   ],
   "source": [
    "sns.displot(data=df, x='mileage')"
   ]
  },
  {
   "cell_type": "code",
   "execution_count": 41,
   "metadata": {},
   "outputs": [],
   "source": [
    "X_train['mileage'].fillna(X_train['mileage'].median(), inplace=True)\n",
    "X_test['mileage'].fillna(X_train['mileage'].median(), inplace=True)"
   ]
  },
  {
   "cell_type": "markdown",
   "metadata": {},
   "source": [
    "Preprocessing for engine data"
   ]
  },
  {
   "cell_type": "code",
   "execution_count": 42,
   "metadata": {},
   "outputs": [
    {
     "data": {
      "text/plain": [
       "<seaborn.axisgrid.FacetGrid at 0x171f4e3b640>"
      ]
     },
     "execution_count": 42,
     "metadata": {},
     "output_type": "execute_result"
    },
    {
     "data": {
      "image/png": "[encoded data removed]",
      "text/plain": [
       "<Figure size 500x500 with 1 Axes>"
      ]
     },
     "metadata": {},
     "output_type": "display_data"
    }
   ],
   "source": [
    "sns.displot(data=df, x='engine')"
   ]
  },
  {
   "cell_type": "code",
   "execution_count": 43,
   "metadata": {},
   "outputs": [
    {
     "data": {
      "text/plain": [
       "(np.float64(1462.9146403890454), np.float64(1248.0))"
      ]
     },
     "execution_count": 43,
     "metadata": {},
     "output_type": "execute_result"
    }
   ],
   "source": [
    "df.engine.mean(), df.engine.median()"
   ]
  },
  {
   "cell_type": "code",
   "execution_count": 44,
   "metadata": {},
   "outputs": [],
   "source": [
    "X_train['engine'].fillna(X_train['engine'].median(), inplace=True)\n",
    "X_test['engine'].fillna(X_train['engine'].median(), inplace=True)"
   ]
  },
  {
   "cell_type": "markdown",
   "metadata": {},
   "source": [
    "Preprocessing for max power data"
   ]
  },
  {
   "cell_type": "code",
   "execution_count": 45,
   "metadata": {},
   "outputs": [
    {
     "data": {
      "text/plain": [
       "<seaborn.axisgrid.FacetGrid at 0x171f4c88610>"
      ]
     },
     "execution_count": 45,
     "metadata": {},
     "output_type": "execute_result"
    },
    {
     "data": {
      "image/png": "[encoded data removed]",
      "text/plain": [
       "<Figure size 500x500 with 1 Axes>"
      ]
     },
     "metadata": {},
     "output_type": "display_data"
    }
   ],
   "source": [
    "sns.displot(data=df, x='max_power')"
   ]
  },
  {
   "cell_type": "code",
   "execution_count": 46,
   "metadata": {},
   "outputs": [],
   "source": [
    "X_train['max_power'].fillna(X_train['max_power'].median(), inplace=True)\n",
    "X_test['max_power'].fillna(X_train['max_power'].median(), inplace=True)"
   ]
  },
  {
   "cell_type": "code",
   "execution_count": 47,
   "metadata": {},
   "outputs": [
    {
     "data": {
      "text/plain": [
       "km_driven    0\n",
       "owner        0\n",
       "mileage      0\n",
       "engine       0\n",
       "max_power    0\n",
       "dtype: int64"
      ]
     },
     "execution_count": 47,
     "metadata": {},
     "output_type": "execute_result"
    }
   ],
   "source": [
    "# Check again\n",
    "X_train[['km_driven', 'owner', 'mileage', 'engine', 'max_power']].isna().sum()"
   ]
  },
  {
   "cell_type": "code",
   "execution_count": 48,
   "metadata": {},
   "outputs": [
    {
     "data": {
      "text/plain": [
       "km_driven    0\n",
       "owner        0\n",
       "mileage      0\n",
       "engine       0\n",
       "max_power    0\n",
       "dtype: int64"
      ]
     },
     "execution_count": 48,
     "metadata": {},
     "output_type": "execute_result"
    }
   ],
   "source": [
    "X_test[['km_driven', 'owner', 'mileage', 'engine', 'max_power']].isna().sum()"
   ]
  },
  {
   "cell_type": "code",
   "execution_count": 49,
   "metadata": {},
   "outputs": [
    {
     "data": {
      "text/plain": [
       "np.int64(0)"
      ]
     },
     "execution_count": 49,
     "metadata": {},
     "output_type": "execute_result"
    }
   ],
   "source": [
    "y_train.isna().sum()"
   ]
  },
  {
   "cell_type": "code",
   "execution_count": 50,
   "metadata": {},
   "outputs": [
    {
     "data": {
      "text/plain": [
       "np.int64(0)"
      ]
     },
     "execution_count": 50,
     "metadata": {},
     "output_type": "execute_result"
    }
   ],
   "source": [
    "y_test.isna().sum()"
   ]
  },
  {
   "cell_type": "markdown",
   "metadata": {},
   "source": [
    "Checking Outliers"
   ]
  },
  {
   "cell_type": "code",
   "execution_count": 51,
   "metadata": {},
   "outputs": [
    {
     "name": "stdout",
     "output_type": "stream",
     "text": [
      "<class 'pandas.core.frame.DataFrame'>\n",
      "Index: 8028 entries, 0 to 8127\n",
      "Data columns (total 6 columns):\n",
      " #   Column         Non-Null Count  Dtype   \n",
      "---  ------         --------------  -----   \n",
      " 0   selling_price  8028 non-null   category\n",
      " 1   km_driven      8028 non-null   int64   \n",
      " 2   owner          8028 non-null   int64   \n",
      " 3   mileage        7814 non-null   float64 \n",
      " 4   engine         7814 non-null   float64 \n",
      " 5   max_power      7820 non-null   float64 \n",
      "dtypes: category(1), float64(3), int64(2)\n",
      "memory usage: 384.4 KB\n"
     ]
    }
   ],
   "source": [
    "df.info()"
   ]
  },
  {
   "cell_type": "code",
   "execution_count": 52,
   "metadata": {},
   "outputs": [
    {
     "data": {
      "image/png": "[encoded data removed]",
      "text/plain": [
       "<Figure size 2000x3000 with 5 Axes>"
      ]
     },
     "metadata": {},
     "output_type": "display_data"
    }
   ],
   "source": [
    "# Create a dictionary of columns.\n",
    "col_dict = {'km_driven':1,'owner':2,'mileage':3,'engine':4,'max_power':5}\n",
    "\n",
    "# Detect outliers in each variable using box plots.\n",
    "plt.figure(figsize=(20,30))\n",
    "\n",
    "for variable,i in col_dict.items():\n",
    "                     plt.subplot(5,4,i)\n",
    "                     plt.boxplot(X_train[variable])\n",
    "                     plt.title(variable)\n",
    "\n",
    "plt.show()"
   ]
  },
  {
   "cell_type": "code",
   "execution_count": 53,
   "metadata": {},
   "outputs": [],
   "source": [
    "def outlier_count(col, data = X_train):\n",
    "    \n",
    "    # calculate your 25% quatile and 75% quatile\n",
    "    q75, q25 = np.percentile(data[col], [75, 25])\n",
    "    \n",
    "    # calculate your inter quatile\n",
    "    iqr = q75 - q25\n",
    "    \n",
    "    # min_val and max_val\n",
    "    min_val = q25 - (iqr*1.5)\n",
    "    max_val = q75 + (iqr*1.5)\n",
    "    \n",
    "    # count number of outliers, which are the data that are less than min_val or more than max_val calculated above\n",
    "    outlier_count = len(np.where((data[col] > max_val) | (data[col] < min_val))[0])\n",
    "    \n",
    "    # calculate the percentage of the outliers\n",
    "    outlier_percent = round(outlier_count/len(data[col])*100, 2)\n",
    "    \n",
    "    if(outlier_count > 0):\n",
    "        print(\"\\n\"+15*'-' + col + 15*'-'+\"\\n\")\n",
    "        print('Number of outliers: {}'.format(outlier_count))\n",
    "        print('Percent of data that is outlier: {}%'.format(outlier_percent))"
   ]
  },
  {
   "cell_type": "code",
   "execution_count": 54,
   "metadata": {},
   "outputs": [
    {
     "name": "stdout",
     "output_type": "stream",
     "text": [
      "\n",
      "---------------km_driven---------------\n",
      "\n",
      "Number of outliers: 102\n",
      "Percent of data that is outlier: 1.82%\n",
      "\n",
      "---------------owner---------------\n",
      "\n",
      "Number of outliers: 110\n",
      "Percent of data that is outlier: 1.96%\n",
      "\n",
      "---------------mileage---------------\n",
      "\n",
      "Number of outliers: 14\n",
      "Percent of data that is outlier: 0.25%\n",
      "\n",
      "---------------engine---------------\n",
      "\n",
      "Number of outliers: 836\n",
      "Percent of data that is outlier: 14.88%\n",
      "\n",
      "---------------max_power---------------\n",
      "\n",
      "Number of outliers: 409\n",
      "Percent of data that is outlier: 7.28%\n"
     ]
    }
   ],
   "source": [
    "numeric_columns = X_train.select_dtypes(include=['int64', 'float64']).columns.tolist()\n",
    "for col in numeric_columns:\n",
    "    outlier_count(col)"
   ]
  },
  {
   "cell_type": "code",
   "execution_count": 55,
   "metadata": {},
   "outputs": [
    {
     "data": {
      "text/html": [
       "<div>\n",
       "<style scoped>\n",
       "    .dataframe tbody tr th:only-of-type {\n",
       "        vertical-align: middle;\n",
       "    }\n",
       "\n",
       "    .dataframe tbody tr th {\n",
       "        vertical-align: top;\n",
       "    }\n",
       "\n",
       "    .dataframe thead th {\n",
       "        text-align: right;\n",
       "    }\n",
       "</style>\n",
       "<table border=\"1\" class=\"dataframe\">\n",
       "  <thead>\n",
       "    <tr style=\"text-align: right;\">\n",
       "      <th></th>\n",
       "      <th>km_driven</th>\n",
       "      <th>owner</th>\n",
       "      <th>mileage</th>\n",
       "      <th>engine</th>\n",
       "      <th>max_power</th>\n",
       "    </tr>\n",
       "  </thead>\n",
       "  <tbody>\n",
       "    <tr>\n",
       "      <th>6853</th>\n",
       "      <td>120000</td>\n",
       "      <td>1</td>\n",
       "      <td>13.58</td>\n",
       "      <td>2499.0</td>\n",
       "      <td>72.40</td>\n",
       "    </tr>\n",
       "    <tr>\n",
       "      <th>1495</th>\n",
       "      <td>90000</td>\n",
       "      <td>2</td>\n",
       "      <td>15.96</td>\n",
       "      <td>2523.0</td>\n",
       "      <td>62.10</td>\n",
       "    </tr>\n",
       "    <tr>\n",
       "      <th>7904</th>\n",
       "      <td>92000</td>\n",
       "      <td>3</td>\n",
       "      <td>20.77</td>\n",
       "      <td>1248.0</td>\n",
       "      <td>88.76</td>\n",
       "    </tr>\n",
       "    <tr>\n",
       "      <th>1281</th>\n",
       "      <td>100000</td>\n",
       "      <td>2</td>\n",
       "      <td>18.80</td>\n",
       "      <td>1248.0</td>\n",
       "      <td>90.00</td>\n",
       "    </tr>\n",
       "    <tr>\n",
       "      <th>1421</th>\n",
       "      <td>120000</td>\n",
       "      <td>3</td>\n",
       "      <td>23.00</td>\n",
       "      <td>1396.0</td>\n",
       "      <td>90.00</td>\n",
       "    </tr>\n",
       "  </tbody>\n",
       "</table>\n",
       "</div>"
      ],
      "text/plain": [
       "      km_driven  owner  mileage  engine  max_power\n",
       "6853     120000      1    13.58  2499.0      72.40\n",
       "1495      90000      2    15.96  2523.0      62.10\n",
       "7904      92000      3    20.77  1248.0      88.76\n",
       "1281     100000      2    18.80  1248.0      90.00\n",
       "1421     120000      3    23.00  1396.0      90.00"
      ]
     },
     "execution_count": 55,
     "metadata": {},
     "output_type": "execute_result"
    }
   ],
   "source": [
    "X_train.head()"
   ]
  },
  {
   "cell_type": "code",
   "execution_count": 56,
   "metadata": {},
   "outputs": [
    {
     "data": {
      "text/html": [
       "<div>\n",
       "<style scoped>\n",
       "    .dataframe tbody tr th:only-of-type {\n",
       "        vertical-align: middle;\n",
       "    }\n",
       "\n",
       "    .dataframe tbody tr th {\n",
       "        vertical-align: top;\n",
       "    }\n",
       "\n",
       "    .dataframe thead th {\n",
       "        text-align: right;\n",
       "    }\n",
       "</style>\n",
       "<table border=\"1\" class=\"dataframe\">\n",
       "  <thead>\n",
       "    <tr style=\"text-align: right;\">\n",
       "      <th></th>\n",
       "      <th>km_driven</th>\n",
       "      <th>owner</th>\n",
       "      <th>mileage</th>\n",
       "      <th>engine</th>\n",
       "      <th>max_power</th>\n",
       "    </tr>\n",
       "  </thead>\n",
       "  <tbody>\n",
       "    <tr>\n",
       "      <th>5948</th>\n",
       "      <td>35000</td>\n",
       "      <td>1</td>\n",
       "      <td>15.00</td>\n",
       "      <td>1368.0</td>\n",
       "      <td>90.00</td>\n",
       "    </tr>\n",
       "    <tr>\n",
       "      <th>6039</th>\n",
       "      <td>110000</td>\n",
       "      <td>1</td>\n",
       "      <td>19.67</td>\n",
       "      <td>1582.0</td>\n",
       "      <td>126.20</td>\n",
       "    </tr>\n",
       "    <tr>\n",
       "      <th>3069</th>\n",
       "      <td>60000</td>\n",
       "      <td>1</td>\n",
       "      <td>20.51</td>\n",
       "      <td>998.0</td>\n",
       "      <td>67.04</td>\n",
       "    </tr>\n",
       "    <tr>\n",
       "      <th>6531</th>\n",
       "      <td>80000</td>\n",
       "      <td>1</td>\n",
       "      <td>19.01</td>\n",
       "      <td>1461.0</td>\n",
       "      <td>108.45</td>\n",
       "    </tr>\n",
       "    <tr>\n",
       "      <th>322</th>\n",
       "      <td>29000</td>\n",
       "      <td>1</td>\n",
       "      <td>24.00</td>\n",
       "      <td>1186.0</td>\n",
       "      <td>73.97</td>\n",
       "    </tr>\n",
       "  </tbody>\n",
       "</table>\n",
       "</div>"
      ],
      "text/plain": [
       "      km_driven  owner  mileage  engine  max_power\n",
       "5948      35000      1    15.00  1368.0      90.00\n",
       "6039     110000      1    19.67  1582.0     126.20\n",
       "3069      60000      1    20.51   998.0      67.04\n",
       "6531      80000      1    19.01  1461.0     108.45\n",
       "322       29000      1    24.00  1186.0      73.97"
      ]
     },
     "execution_count": 56,
     "metadata": {},
     "output_type": "execute_result"
    }
   ],
   "source": [
    "X_test.head()"
   ]
  },
  {
   "cell_type": "markdown",
   "metadata": {},
   "source": [
    "Scaling data"
   ]
  },
  {
   "cell_type": "code",
   "execution_count": 57,
   "metadata": {},
   "outputs": [
    {
     "name": "stdout",
     "output_type": "stream",
     "text": [
      "Scaler saved as scaler.pkl\n"
     ]
    }
   ],
   "source": [
    "from sklearn.preprocessing import StandardScaler\n",
    "import joblib\n",
    "\n",
    "# Select only high-value features for scaling\n",
    "features_to_scale = ['km_driven', 'mileage', 'engine', 'max_power']\n",
    "\n",
    "scaler = StandardScaler()\n",
    "\n",
    "X_train[features_to_scale] = scaler.fit_transform(X_train[features_to_scale])\n",
    "X_test[features_to_scale] = scaler.transform(X_test[features_to_scale])\n",
    "\n",
    "joblib.dump(scaler, 'scaler.pkl')\n",
    "print(\"Scaler saved as scaler.pkl\")"
   ]
  },
  {
   "cell_type": "code",
   "execution_count": 58,
   "metadata": {},
   "outputs": [
    {
     "data": {
      "text/html": [
       "<div>\n",
       "<style scoped>\n",
       "    .dataframe tbody tr th:only-of-type {\n",
       "        vertical-align: middle;\n",
       "    }\n",
       "\n",
       "    .dataframe tbody tr th {\n",
       "        vertical-align: top;\n",
       "    }\n",
       "\n",
       "    .dataframe thead th {\n",
       "        text-align: right;\n",
       "    }\n",
       "</style>\n",
       "<table border=\"1\" class=\"dataframe\">\n",
       "  <thead>\n",
       "    <tr style=\"text-align: right;\">\n",
       "      <th></th>\n",
       "      <th>km_driven</th>\n",
       "      <th>owner</th>\n",
       "      <th>mileage</th>\n",
       "      <th>engine</th>\n",
       "      <th>max_power</th>\n",
       "    </tr>\n",
       "  </thead>\n",
       "  <tbody>\n",
       "    <tr>\n",
       "      <th>6853</th>\n",
       "      <td>0.830335</td>\n",
       "      <td>1</td>\n",
       "      <td>-1.472315</td>\n",
       "      <td>2.084278</td>\n",
       "      <td>-0.547545</td>\n",
       "    </tr>\n",
       "    <tr>\n",
       "      <th>1495</th>\n",
       "      <td>0.331836</td>\n",
       "      <td>2</td>\n",
       "      <td>-0.871732</td>\n",
       "      <td>2.132328</td>\n",
       "      <td>-0.838350</td>\n",
       "    </tr>\n",
       "    <tr>\n",
       "      <th>7904</th>\n",
       "      <td>0.365070</td>\n",
       "      <td>3</td>\n",
       "      <td>0.342052</td>\n",
       "      <td>-0.420314</td>\n",
       "      <td>-0.085646</td>\n",
       "    </tr>\n",
       "    <tr>\n",
       "      <th>1281</th>\n",
       "      <td>0.498003</td>\n",
       "      <td>2</td>\n",
       "      <td>-0.155069</td>\n",
       "      <td>-0.420314</td>\n",
       "      <td>-0.050636</td>\n",
       "    </tr>\n",
       "    <tr>\n",
       "      <th>1421</th>\n",
       "      <td>0.830335</td>\n",
       "      <td>3</td>\n",
       "      <td>0.904783</td>\n",
       "      <td>-0.124008</td>\n",
       "      <td>-0.050636</td>\n",
       "    </tr>\n",
       "  </tbody>\n",
       "</table>\n",
       "</div>"
      ],
      "text/plain": [
       "      km_driven  owner   mileage    engine  max_power\n",
       "6853   0.830335      1 -1.472315  2.084278  -0.547545\n",
       "1495   0.331836      2 -0.871732  2.132328  -0.838350\n",
       "7904   0.365070      3  0.342052 -0.420314  -0.085646\n",
       "1281   0.498003      2 -0.155069 -0.420314  -0.050636\n",
       "1421   0.830335      3  0.904783 -0.124008  -0.050636"
      ]
     },
     "execution_count": 58,
     "metadata": {},
     "output_type": "execute_result"
    }
   ],
   "source": [
    "X_train.head()"
   ]
  },
  {
   "cell_type": "code",
   "execution_count": 59,
   "metadata": {},
   "outputs": [
    {
     "data": {
      "text/html": [
       "<div>\n",
       "<style scoped>\n",
       "    .dataframe tbody tr th:only-of-type {\n",
       "        vertical-align: middle;\n",
       "    }\n",
       "\n",
       "    .dataframe tbody tr th {\n",
       "        vertical-align: top;\n",
       "    }\n",
       "\n",
       "    .dataframe thead th {\n",
       "        text-align: right;\n",
       "    }\n",
       "</style>\n",
       "<table border=\"1\" class=\"dataframe\">\n",
       "  <thead>\n",
       "    <tr style=\"text-align: right;\">\n",
       "      <th></th>\n",
       "      <th>km_driven</th>\n",
       "      <th>owner</th>\n",
       "      <th>mileage</th>\n",
       "      <th>engine</th>\n",
       "      <th>max_power</th>\n",
       "    </tr>\n",
       "  </thead>\n",
       "  <tbody>\n",
       "    <tr>\n",
       "      <th>5948</th>\n",
       "      <td>-0.582079</td>\n",
       "      <td>1</td>\n",
       "      <td>-1.113984</td>\n",
       "      <td>-0.180066</td>\n",
       "      <td>-0.050636</td>\n",
       "    </tr>\n",
       "    <tr>\n",
       "      <th>6039</th>\n",
       "      <td>0.664169</td>\n",
       "      <td>1</td>\n",
       "      <td>0.064471</td>\n",
       "      <td>0.248378</td>\n",
       "      <td>0.971416</td>\n",
       "    </tr>\n",
       "    <tr>\n",
       "      <th>3069</th>\n",
       "      <td>-0.166663</td>\n",
       "      <td>1</td>\n",
       "      <td>0.276442</td>\n",
       "      <td>-0.920833</td>\n",
       "      <td>-0.698877</td>\n",
       "    </tr>\n",
       "    <tr>\n",
       "      <th>6531</th>\n",
       "      <td>0.165670</td>\n",
       "      <td>1</td>\n",
       "      <td>-0.102077</td>\n",
       "      <td>0.006127</td>\n",
       "      <td>0.470272</td>\n",
       "    </tr>\n",
       "    <tr>\n",
       "      <th>322</th>\n",
       "      <td>-0.681778</td>\n",
       "      <td>1</td>\n",
       "      <td>1.157129</td>\n",
       "      <td>-0.544443</td>\n",
       "      <td>-0.503219</td>\n",
       "    </tr>\n",
       "  </tbody>\n",
       "</table>\n",
       "</div>"
      ],
      "text/plain": [
       "      km_driven  owner   mileage    engine  max_power\n",
       "5948  -0.582079      1 -1.113984 -0.180066  -0.050636\n",
       "6039   0.664169      1  0.064471  0.248378   0.971416\n",
       "3069  -0.166663      1  0.276442 -0.920833  -0.698877\n",
       "6531   0.165670      1 -0.102077  0.006127   0.470272\n",
       "322   -0.681778      1  1.157129 -0.544443  -0.503219"
      ]
     },
     "execution_count": 59,
     "metadata": {},
     "output_type": "execute_result"
    }
   ],
   "source": [
    "X_test.head()"
   ]
  },
  {
   "cell_type": "markdown",
   "metadata": {},
   "source": [
    "Check Null again"
   ]
  },
  {
   "cell_type": "code",
   "execution_count": 60,
   "metadata": {},
   "outputs": [
    {
     "data": {
      "text/plain": [
       "km_driven    0\n",
       "owner        0\n",
       "mileage      0\n",
       "engine       0\n",
       "max_power    0\n",
       "dtype: int64"
      ]
     },
     "execution_count": 60,
     "metadata": {},
     "output_type": "execute_result"
    }
   ],
   "source": [
    "X_train[['km_driven', 'owner', 'mileage', 'engine', 'max_power']].isna().sum()"
   ]
  },
  {
   "cell_type": "code",
   "execution_count": 61,
   "metadata": {},
   "outputs": [
    {
     "data": {
      "text/plain": [
       "km_driven    0\n",
       "owner        0\n",
       "mileage      0\n",
       "engine       0\n",
       "max_power    0\n",
       "dtype: int64"
      ]
     },
     "execution_count": 61,
     "metadata": {},
     "output_type": "execute_result"
    }
   ],
   "source": [
    "X_test[['km_driven', 'owner', 'mileage', 'engine', 'max_power']].isna().sum()"
   ]
  },
  {
   "cell_type": "code",
   "execution_count": 62,
   "metadata": {},
   "outputs": [
    {
     "name": "stdout",
     "output_type": "stream",
     "text": [
      "Shape of X_train:  (5619, 5)\n",
      "Shape of X_test:  (2409, 5)\n",
      "Shape of y_train:  (5619,)\n",
      "Shape of y_test:  (2409,)\n"
     ]
    }
   ],
   "source": [
    "# Let's check shapes of all X_train, X_test, y_train, y_test\n",
    "print(\"Shape of X_train: \", X_train.shape)\n",
    "print(\"Shape of X_test: \", X_test.shape)\n",
    "print(\"Shape of y_train: \", y_train.shape)\n",
    "print(\"Shape of y_test: \", y_test.shape)"
   ]
  },
  {
   "cell_type": "markdown",
   "metadata": {},
   "source": [
    "### Task 1. Classification"
   ]
  },
  {
   "cell_type": "markdown",
   "metadata": {},
   "source": [
    "First, I manually added an intercept term to the feature matrix to include the bias parameter in our custom logistic regression implementation."
   ]
  },
  {
   "cell_type": "code",
   "execution_count": 63,
   "metadata": {},
   "outputs": [],
   "source": [
    "# add intercept to our X\n",
    "intercept = np.ones((X_train.shape[0], 1))\n",
    "X_train   = np.concatenate((intercept, X_train), axis=1)  #add intercept\n",
    "intercept = np.ones((X_test.shape[0], 1))\n",
    "X_test    = np.concatenate((intercept, X_test), axis=1)  #add intercept"
   ]
  },
  {
   "cell_type": "markdown",
   "metadata": {},
   "source": [
    "Next, I convert the target vector into a one-hot encoded matrix to represent each class as a binary vector. This transformation is essential for performing multinomial logistic regression with softmax activation."
   ]
  },
  {
   "cell_type": "code",
   "execution_count": 64,
   "metadata": {},
   "outputs": [],
   "source": [
    "k = len(np.unique(y_train))  # no. of class  (can also use np.unique)\n",
    "m = X_train.shape[0]  # no.of samples\n",
    "n = X_train.shape[1]  # no. of features\n",
    "Y_train_encoded = np.zeros((m, k))\n",
    "for each_class in range(k):\n",
    "    cond = y_train==each_class\n",
    "    Y_train_encoded[np.where(cond), each_class] = 1"
   ]
  },
  {
   "cell_type": "markdown",
   "metadata": {},
   "source": [
    "Although reducing dimensionality is not mandatory for model training, we applied PCA to visualize the data in two dimensions, allowing us to observe the distribution and class separation"
   ]
  },
  {
   "cell_type": "code",
   "execution_count": 65,
   "metadata": {},
   "outputs": [
    {
     "data": {
      "image/png": "[encoded data removed]",
      "text/plain": [
       "<Figure size 800x800 with 2 Axes>"
      ]
     },
     "metadata": {},
     "output_type": "display_data"
    }
   ],
   "source": [
    "# Visualize our data\n",
    "from sklearn.decomposition import PCA\n",
    "\n",
    "pca = PCA(n_components=2)\n",
    "X_reduced = pca.fit_transform(X_train)\n",
    "\n",
    "plt.figure(figsize=(8, 8))\n",
    "plt.scatter(X_reduced[:, 0], X_reduced[:, 1], c=y_train, cmap='viridis', alpha=0.6)\n",
    "plt.colorbar(label=\"Class\")\n",
    "plt.grid(True)\n",
    "plt.show()"
   ]
  },
  {
   "cell_type": "markdown",
   "metadata": {},
   "source": [
    "The scatter plot visualizes the data after dimensionality reduction, showing class distribution using different colors. While some clusters are visible, there is significant overlap between classes, indicating potential challenges in classification. Outliers are also observed, which may require further investigation"
   ]
  },
  {
   "cell_type": "markdown",
   "metadata": {},
   "source": [
    "Next is the implementation of the things specified in the problem."
   ]
  },
  {
   "cell_type": "code",
   "execution_count": null,
   "metadata": {},
   "outputs": [],
   "source": [
    "class LogisticRegression:\n",
    "    \n",
    "    def __init__(self, k, n, method, alpha = 0.001, max_iter=5000):\n",
    "        self.k = k\n",
    "        self.n = n\n",
    "        self.alpha = alpha\n",
    "        self.max_iter = max_iter\n",
    "        self.method = method\n",
    "    \n",
    "    def fit(self, X, Y):\n",
    "        self.W = np.random.rand(self.n, self.k)\n",
    "        self.losses = []\n",
    "        \n",
    "        if self.method == \"batch\":\n",
    "            start_time = time.time()\n",
    "            for i in range(self.max_iter):\n",
    "                loss, grad =  self.gradient(X, Y)\n",
    "                self.losses.append(loss)\n",
    "                self.W = self.W - self.alpha * grad\n",
    "                if i % 500 == 0:\n",
    "                    print(f\"Loss at iteration {i}\", loss)\n",
    "            print(f\"time taken: {time.time() - start_time}\")\n",
    "            \n",
    "        elif self.method == \"minibatch\":\n",
    "            start_time = time.time()\n",
    "            batch_size = int(0.3 * X.shape[0])\n",
    "            for i in range(self.max_iter):\n",
    "                ix = np.random.randint(0, X.shape[0]) #<----with replacement\n",
    "                batch_X = X[ix:ix+batch_size]\n",
    "                batch_Y = Y[ix:ix+batch_size]\n",
    "                loss, grad = self.gradient(batch_X, batch_Y)\n",
    "                self.losses.append(loss)\n",
    "                self.W = self.W - self.alpha * grad\n",
    "                if i % 500 == 0:\n",
    "                    print(f\"Loss at iteration {i}\", loss)\n",
    "            print(f\"time taken: {time.time() - start_time}\")\n",
    "            \n",
    "        elif self.method == \"sto\":\n",
    "            start_time = time.time()\n",
    "            list_of_used_ix = []\n",
    "            for i in range(self.max_iter):\n",
    "                idx = np.random.randint(X.shape[0])\n",
    "                while i in list_of_used_ix:\n",
    "                    idx = np.random.randint(X.shape[0])\n",
    "                X_train = X[idx, :].reshape(1, -1)\n",
    "                Y_train = Y[idx]\n",
    "                loss, grad = self.gradient(X_train, Y_train)\n",
    "                self.losses.append(loss)\n",
    "                self.W = self.W - self.alpha * grad\n",
    "                \n",
    "                list_of_used_ix.append(i)\n",
    "                if len(list_of_used_ix) == X.shape[0]:\n",
    "                    list_of_used_ix = []\n",
    "                if i % 500 == 0:\n",
    "                    print(f\"Loss at iteration {i}\", loss)\n",
    "            print(f\"time taken: {time.time() - start_time}\")\n",
    "            \n",
    "        else:\n",
    "            raise ValueError('Method must be one of the followings: \"batch\", \"minibatch\" or \"sto\".')\n",
    "        \n",
    "        \n",
    "    def gradient(self, X, Y):\n",
    "        m = X.shape[0]\n",
    "        h = self.h_theta(X, self.W)\n",
    "        loss = - np.sum(Y*np.log(h)) / m\n",
    "        error = h - Y\n",
    "        grad = self.softmax_grad(X, error)\n",
    "        return loss, grad\n",
    "\n",
    "    def softmax(self, theta_t_x):\n",
    "        return np.exp(theta_t_x) / np.sum(np.exp(theta_t_x), axis=1, keepdims=True)\n",
    "\n",
    "    def softmax_grad(self, X, error):\n",
    "        return  X.T @ error\n",
    "\n",
    "    def h_theta(self, X, W):\n",
    "        '''\n",
    "        Input:\n",
    "            X shape: (m, n)\n",
    "            w shape: (n, k)\n",
    "        Returns:\n",
    "            yhat shape: (m, k)\n",
    "        '''\n",
    "        return self.softmax(X @ W)\n",
    "    \n",
    "    def predict(self, X_test):\n",
    "        return np.argmax(self.h_theta(X_test, self.W), axis=1)\n",
    "    \n",
    "    def plot(self):\n",
    "        plt.plot(np.arange(len(self.losses)) , self.losses, label = \"Train Losses\")\n",
    "        plt.title(\"Losses\")\n",
    "        plt.xlabel(\"epoch\")\n",
    "        plt.ylabel(\"losses\")\n",
    "        plt.legend()\n",
    "    \n",
    "    def accuracy(self, y_true, y_pred):\n",
    "        correct = np.sum(y_true == y_pred)\n",
    "        return correct / len(y_true)\n",
    "    \n",
    "    def precision(self, y_true, y_pred, class_label):\n",
    "        TP = np.sum((y_true == class_label) & (y_pred == class_label))\n",
    "        FP = np.sum((y_true != class_label) & (y_pred == class_label))\n",
    "        return TP / (TP + FP) if (TP + FP) > 0 else 0\n",
    "\n",
    "    def recall(self, y_true, y_pred, class_label):\n",
    "        TP = np.sum((y_true == class_label) & (y_pred == class_label))\n",
    "        FN = np.sum((y_true == class_label) & (y_pred != class_label))\n",
    "        return TP / (TP + FN) if (TP + FN) > 0 else 0\n",
    "\n",
    "    def f1_score(self, precision_value, recall_value):\n",
    "        return 2 * (precision_value * recall_value) / (precision_value + recall_value) if (precision_value + recall_value) > 0 else 0\n",
    "\n",
    "    def macro_precision(self, y_true, y_pred, num_classes):\n",
    "        precision_scores = [self.precision(y_true, y_pred, c) for c in range(num_classes)]\n",
    "        return np.mean(precision_scores)\n",
    "\n",
    "    def weighted_precision(self, y_true, y_pred, num_classes):\n",
    "        weights = []\n",
    "        precision_scores = []\n",
    "        total_samples = len(y_true)\n",
    "        \n",
    "        for c in range(num_classes):\n",
    "            class_count = np.sum(y_true == c)  # จำนวนตัวอย่างของคลาสนั้น\n",
    "            weight = class_count / total_samples  # น้ำหนักของคลาสนั้น\n",
    "            weights.append(weight)\n",
    "            precision_scores.append(self.precision(y_true, y_pred, c))\n",
    "        \n",
    "        weighted_prec = sum([w * p for w, p in zip(weights, precision_scores)])\n",
    "        return weighted_prec\n",
    "    \n",
    "    def weighted_recall(self, y_true, y_pred, num_classes):\n",
    "        weights = []\n",
    "        recall_scores = []\n",
    "        total_samples = len(y_true)\n",
    "        \n",
    "        for c in range(num_classes):\n",
    "            class_count = np.sum(y_true == c)  # จำนวนตัวอย่างของคลาสนั้น\n",
    "            weight = class_count / total_samples  # น้ำหนักของคลาสนั้น\n",
    "            weights.append(weight)\n",
    "            recall_scores.append(self.recall(y_true, y_pred, c))\n",
    "        \n",
    "        weighted_rec = sum([w * r for w, r in zip(weights, recall_scores)])\n",
    "        return weighted_rec\n",
    "\n",
    "    def weighted_f1(self, y_true, y_pred, num_classes):\n",
    "        prec = self.weighted_precision(y_true, y_pred, num_classes)\n",
    "        rec = self.weighted_recall(y_true, y_pred, num_classes)\n",
    "        return self.f1_score(prec, rec)"
   ]
  },
  {
   "cell_type": "code",
   "execution_count": null,
   "metadata": {},
   "outputs": [
    {
     "name": "stdout",
     "output_type": "stream",
     "text": [
      "Loss at iteration 0 1.5820809439122223\n",
      "Loss at iteration 500 0.9201666709574334\n",
      "Loss at iteration 1000 0.9992137805991463\n",
      "Loss at iteration 1500 0.9165654263105744\n",
      "Loss at iteration 2000 0.9294391370356502\n",
      "Loss at iteration 2500 0.9167222395764852\n",
      "Loss at iteration 3000 0.923367127014837\n",
      "Loss at iteration 3500 0.9159155634433386\n",
      "Loss at iteration 4000 0.9408006065668659\n",
      "Loss at iteration 4500 0.9086779890044115\n",
      "time taken: 0.7634069919586182\n",
      "Accuracy: 0.5799086757990868\n",
      "Class 0: Precision=0.67, Recall=0.76, F1-Score=0.72\n",
      "Class 1: Precision=0.49, Recall=0.33, F1-Score=0.40\n",
      "Class 2: Precision=0.43, Recall=0.56, F1-Score=0.48\n",
      "Class 3: Precision=0.73, Recall=0.67, F1-Score=0.70\n",
      "Macro Precision: 0.5809734825245519\n",
      "Weighted Precision: 0.5830282576804119\n",
      "Weighted Recall: 0.5799086757990868\n",
      "Weighted F1-Score: 0.5814642825957798\n",
      "=========Classification report=======\n",
      "Report:                precision    recall  f1-score   support\n",
      "\n",
      "           0       0.67      0.76      0.72       633\n",
      "           1       0.49      0.33      0.40       627\n",
      "           2       0.43      0.56      0.48       561\n",
      "           3       0.73      0.67      0.70       588\n",
      "\n",
      "    accuracy                           0.58      2409\n",
      "   macro avg       0.58      0.58      0.57      2409\n",
      "weighted avg       0.58      0.58      0.57      2409\n",
      "\n"
     ]
    },
    {
     "data": {
      "image/png": "[encoded data removed]",
      "text/plain": [
       "<Figure size 640x480 with 1 Axes>"
      ]
     },
     "metadata": {},
     "output_type": "display_data"
    }
   ],
   "source": [
    "model = LogisticRegression(k, X_train.shape[1], \"minibatch\")\n",
    "model.fit(X_train, Y_train_encoded)\n",
    "yhat = model.predict(X_test)\n",
    "model.plot()\n",
    "\n",
    "print(f\"Accuracy: {model.accuracy(y_test, yhat)}\")\n",
    "for c in range(k):\n",
    "    prec = model.precision(y_test, yhat, c)\n",
    "    rec = model.recall(y_test, yhat, c)\n",
    "    f1 = model.f1_score(prec, rec)\n",
    "    print(f\"Class {c}: Precision={prec:.2f}, Recall={rec:.2f}, F1-Score={f1:.2f}\")\n",
    "\n",
    "print(f\"Macro Precision: {model.macro_precision(y_test, yhat, k)}\")\n",
    "\n",
    "print(f\"Weighted Precision: {model.weighted_precision(y_test, yhat, 4)}\")\n",
    "print(f\"Weighted Recall: {model.weighted_recall(y_test, yhat, 4)}\")\n",
    "print(f\"Weighted F1-Score: {model.weighted_f1(y_test, yhat, 4)}\")\n",
    "\n",
    "print(\"=========Classification report=======\")\n",
    "print(\"Report: \", classification_report(y_test, yhat))"
   ]
  },
  {
   "cell_type": "markdown",
   "metadata": {},
   "source": [
    "The implementation of Task 1 is complete, including accuracy, precision, recall, F1-score, macro precision, weighted precision, weighted recall, and weighted F1-score. The results from our custom implementation are consistent with the scikit-learn classification report, confirming the correctness of our approach"
   ]
  },
  {
   "cell_type": "markdown",
   "metadata": {},
   "source": [
    "Task 1 Results: Comparison between Custom Model and Scikit-learn\n",
    "\n",
    "| Metric              | Custom Model | Scikit-learn |\n",
    "|---------------------|--------------|--------------|\n",
    "| Accuracy            | 0.5799       | 0.58         |\n",
    "| Macro Precision     | 0.5809       | 0.58         |\n",
    "| Weighted Precision  | 0.5830       | 0.58         |\n",
    "| Weighted Recall     | 0.5799       | 0.58         |\n",
    "| Weighted F1-Score   | 0.5815       | 0.57         |\n",
    "\n",
    "**Conclusion:** The results from my implementation closely match the Scikit-learn classification report, confirming the correctness of our approach. Therefore, Task 1 is successfully completed."
   ]
  },
  {
   "cell_type": "markdown",
   "metadata": {},
   "source": [
    "### Task 2. Ridge Logistic Regression"
   ]
  },
  {
   "cell_type": "markdown",
   "metadata": {},
   "source": [
    "I modified our LogisticRegression class to allow users to optionally enable Ridge (L2) regularization. When enabled, the model includes an additional penalty term in the loss function to discourage large weights and reduce overfitting."
   ]
  },
  {
   "cell_type": "code",
   "execution_count": 67,
   "metadata": {},
   "outputs": [],
   "source": [
    "class LogisticRegression:\n",
    "    \n",
    "    def __init__(self, k, n, method, alpha = 0.001, max_iter=5000, use_penalty=False, lambda_=0.1):\n",
    "        self.k = k\n",
    "        self.n = n\n",
    "        self.alpha = alpha\n",
    "        self.max_iter = max_iter\n",
    "        self.method = method\n",
    "        self.use_penalty = use_penalty  # Ridge Logistic\n",
    "        self.lambda_ = lambda_\n",
    "    \n",
    "    def fit(self, X, Y):\n",
    "        self.W = np.random.rand(self.n, self.k)\n",
    "        self.losses = []\n",
    "        \n",
    "        if self.method == \"batch\":\n",
    "            start_time = time.time()\n",
    "            for i in range(self.max_iter):\n",
    "                loss, grad =  self.gradient(X, Y)\n",
    "                self.losses.append(loss)\n",
    "                self.W = self.W - self.alpha * grad\n",
    "                if i % 500 == 0:\n",
    "                    print(f\"Loss at iteration {i}\", loss)\n",
    "            print(f\"time taken: {time.time() - start_time}\")\n",
    "            \n",
    "        elif self.method == \"minibatch\":\n",
    "            start_time = time.time()\n",
    "            batch_size = int(0.3 * X.shape[0])\n",
    "            for i in range(self.max_iter):\n",
    "                ix = np.random.randint(0, X.shape[0]) #<----with replacement\n",
    "                batch_X = X[ix:ix+batch_size]\n",
    "                batch_Y = Y[ix:ix+batch_size]\n",
    "                loss, grad = self.gradient(batch_X, batch_Y)\n",
    "                self.losses.append(loss)\n",
    "                self.W = self.W - self.alpha * grad\n",
    "                if i % 500 == 0:\n",
    "                    print(f\"Loss at iteration {i}\", loss)\n",
    "            print(f\"time taken: {time.time() - start_time}\")\n",
    "            \n",
    "        elif self.method == \"sto\":\n",
    "            start_time = time.time()\n",
    "            list_of_used_ix = []\n",
    "            for i in range(self.max_iter):\n",
    "                idx = np.random.randint(X.shape[0])\n",
    "                while i in list_of_used_ix:\n",
    "                    idx = np.random.randint(X.shape[0])\n",
    "                X_train = X[idx, :].reshape(1, -1)\n",
    "                Y_train = Y[idx]\n",
    "                loss, grad = self.gradient(X_train, Y_train)\n",
    "                self.losses.append(loss)\n",
    "                self.W = self.W - self.alpha * grad\n",
    "                \n",
    "                list_of_used_ix.append(i)\n",
    "                if len(list_of_used_ix) == X.shape[0]:\n",
    "                    list_of_used_ix = []\n",
    "                if i % 500 == 0:\n",
    "                    print(f\"Loss at iteration {i}\", loss)\n",
    "            print(f\"time taken: {time.time() - start_time}\")\n",
    "            \n",
    "        else:\n",
    "            raise ValueError('Method must be one of the followings: \"batch\", \"minibatch\" or \"sto\".')\n",
    "        \n",
    "    #Add Ridge Penalty    \n",
    "    def gradient(self, X, Y):\n",
    "        h = self.h_theta(X, self.W)\n",
    "        loss = - np.sum(Y * np.log(h))  # Cross-Entropy Loss\n",
    "        if self.use_penalty:    #lambda * sum(theta^2)\n",
    "            loss += self.lambda_ * np.sum(np.square(self.W))\n",
    "        \n",
    "        error = h - Y\n",
    "        grad = self.softmax_grad(X, error)\n",
    "\n",
    "        if self.use_penalty:    #lambda * theta\n",
    "            grad += self.lambda_ * self.W\n",
    "    \n",
    "        return loss, grad\n",
    "\n",
    "    def softmax(self, theta_t_x):\n",
    "        return np.exp(theta_t_x) / np.sum(np.exp(theta_t_x), axis=1, keepdims=True)\n",
    "\n",
    "    def softmax_grad(self, X, error):\n",
    "        return  X.T @ error\n",
    "\n",
    "    def h_theta(self, X, W):\n",
    "        '''\n",
    "        Input:\n",
    "            X shape: (m, n)\n",
    "            w shape: (n, k)\n",
    "        Returns:\n",
    "            yhat shape: (m, k)\n",
    "        '''\n",
    "        return self.softmax(X @ W)\n",
    "    \n",
    "    def predict(self, X_test):\n",
    "        return np.argmax(self.h_theta(X_test, self.W), axis=1)\n",
    "    \n",
    "    def plot(self):\n",
    "        plt.plot(np.arange(len(self.losses)) , self.losses, label = \"Train Losses\")\n",
    "        plt.title(\"Losses\")\n",
    "        plt.xlabel(\"epoch\")\n",
    "        plt.ylabel(\"losses\")\n",
    "        plt.legend()\n",
    "    \n",
    "    def accuracy(self, y_true, y_pred):\n",
    "        correct = np.sum(y_true == y_pred)\n",
    "        return correct / len(y_true)\n",
    "    \n",
    "    def precision(self, y_true, y_pred, class_label):\n",
    "        TP = np.sum((y_true == class_label) & (y_pred == class_label))\n",
    "        FP = np.sum((y_true != class_label) & (y_pred == class_label))\n",
    "        return TP / (TP + FP) if (TP + FP) > 0 else 0\n",
    "\n",
    "    def recall(self, y_true, y_pred, class_label):\n",
    "        TP = np.sum((y_true == class_label) & (y_pred == class_label))\n",
    "        FN = np.sum((y_true == class_label) & (y_pred != class_label))\n",
    "        return TP / (TP + FN) if (TP + FN) > 0 else 0\n",
    "\n",
    "    def f1_score(self, precision_value, recall_value):\n",
    "        return 2 * (precision_value * recall_value) / (precision_value + recall_value) if (precision_value + recall_value) > 0 else 0\n",
    "\n",
    "    def macro_precision(self, y_true, y_pred, num_classes):\n",
    "        precision_scores = [self.precision(y_true, y_pred, c) for c in range(num_classes)]\n",
    "        return np.mean(precision_scores)\n",
    "\n",
    "    def weighted_precision(self, y_true, y_pred, num_classes):\n",
    "        weights = []\n",
    "        precision_scores = []\n",
    "        total_samples = len(y_true)\n",
    "        \n",
    "        for c in range(num_classes):\n",
    "            class_count = np.sum(y_true == c)  # จำนวนตัวอย่างของคลาสนั้น\n",
    "            weight = class_count / total_samples  # น้ำหนักของคลาสนั้น\n",
    "            weights.append(weight)\n",
    "            precision_scores.append(self.precision(y_true, y_pred, c))\n",
    "        \n",
    "        weighted_prec = sum([w * p for w, p in zip(weights, precision_scores)])\n",
    "        return weighted_prec\n",
    "    \n",
    "    def weighted_recall(self, y_true, y_pred, num_classes):\n",
    "        weights = []\n",
    "        recall_scores = []\n",
    "        total_samples = len(y_true)\n",
    "        \n",
    "        for c in range(num_classes):\n",
    "            class_count = np.sum(y_true == c)  # จำนวนตัวอย่างของคลาสนั้น\n",
    "            weight = class_count / total_samples  # น้ำหนักของคลาสนั้น\n",
    "            weights.append(weight)\n",
    "            recall_scores.append(self.recall(y_true, y_pred, c))\n",
    "        \n",
    "        weighted_rec = sum([w * r for w, r in zip(weights, recall_scores)])\n",
    "        return weighted_rec\n",
    "\n",
    "    def weighted_f1(self, y_true, y_pred, num_classes):\n",
    "        prec = self.weighted_precision(y_true, y_pred, num_classes)\n",
    "        rec = self.weighted_recall(y_true, y_pred, num_classes)\n",
    "        return self.f1_score(prec, rec)"
   ]
  },
  {
   "cell_type": "markdown",
   "metadata": {},
   "source": [
    "### Task 3. Deployment\n",
    "\n",
    "- Objective 1: Log experiment on the server."
   ]
  },
  {
   "cell_type": "code",
   "execution_count": 69,
   "metadata": {},
   "outputs": [
    {
     "name": "stderr",
     "output_type": "stream",
     "text": [
      "2025/04/05 19:13:49 INFO mlflow.tracking.fluent: Experiment with name 'st124879-a3' does not exist. Creating a new experiment.\n"
     ]
    },
    {
     "data": {
      "text/plain": [
       "<Experiment: artifact_location='mlflow-artifacts:/116411965365937607', creation_time=1743880839418, experiment_id='116411965365937607', last_update_time=1743880839418, lifecycle_stage='active', name='st124879-a3', tags={}>"
      ]
     },
     "execution_count": 69,
     "metadata": {},
     "output_type": "execute_result"
    }
   ],
   "source": [
    "#Set tracking_uri\n",
    "import mlflow\n",
    "import os\n",
    "\n",
    "os.environ['MLFLOW_TRACKING_USERNAME'] = 'admin'\n",
    "os.environ['MLFLOW_TRACKING_PASSWORD'] = 'password'\n",
    "\n",
    "mlflow.set_tracking_uri(\"https://mlflow.ml.brain.cs.ait.ac.th/\")\n",
    "mlflow.set_experiment(\"st124879-a3\")"
   ]
  },
  {
   "cell_type": "code",
   "execution_count": 70,
   "metadata": {},
   "outputs": [],
   "source": [
    "#Hyperparameters\n",
    "methods = ['batch', 'minibatch', 'sto']\n",
    "alphas  = [0.01, 0.001, 0.0001]\n",
    "lambdas = [0, 0.1, 0.5]  # 0: no regularization"
   ]
  },
  {
   "cell_type": "code",
   "execution_count": 71,
   "metadata": {},
   "outputs": [
    {
     "name": "stdout",
     "output_type": "stream",
     "text": [
      "Loss at iteration 0 8182.408306848991\n",
      "Loss at iteration 500 nan\n",
      "Loss at iteration 1000 nan\n",
      "Loss at iteration 1500 nan\n",
      "Loss at iteration 2000 nan\n",
      "Loss at iteration 2500 nan\n",
      "Loss at iteration 3000 nan\n",
      "Loss at iteration 3500 nan\n",
      "Loss at iteration 4000 nan\n",
      "Loss at iteration 4500 nan\n",
      "time taken: 2.078906774520874\n",
      "[batch_alpha0.01_lambda0] Accuracy: 0.2628, Weighted F1: 0.1094\n",
      "🏃 View run batch_alpha0.01_lambda0 at: https://mlflow.ml.brain.cs.ait.ac.th/#/experiments/116411965365937607/runs/59c64c81b2124fa29bf04bb81128d784\n",
      "🧪 View experiment at: https://mlflow.ml.brain.cs.ait.ac.th/#/experiments/116411965365937607\n",
      "Loss at iteration 0 8623.371473339814\n",
      "Loss at iteration 500 nan\n",
      "Loss at iteration 1000 nan\n",
      "Loss at iteration 1500 nan\n",
      "Loss at iteration 2000 nan\n",
      "Loss at iteration 2500 nan\n",
      "Loss at iteration 3000 nan\n",
      "Loss at iteration 3500 nan\n",
      "Loss at iteration 4000 nan\n",
      "Loss at iteration 4500 nan\n",
      "time taken: 2.1049373149871826\n",
      "[batch_alpha0.01_lambda0.1] Accuracy: 0.2628, Weighted F1: 0.1094\n",
      "🏃 View run batch_alpha0.01_lambda0.1 at: https://mlflow.ml.brain.cs.ait.ac.th/#/experiments/116411965365937607/runs/7d171eadaf084a02a4d8d67690df19c5\n",
      "🧪 View experiment at: https://mlflow.ml.brain.cs.ait.ac.th/#/experiments/116411965365937607\n",
      "Loss at iteration 0 9197.828517190992\n",
      "Loss at iteration 500 nan\n",
      "Loss at iteration 1000 nan\n",
      "Loss at iteration 1500 nan\n",
      "Loss at iteration 2000 nan\n",
      "Loss at iteration 2500 nan\n",
      "Loss at iteration 3000 nan\n",
      "Loss at iteration 3500 nan\n",
      "Loss at iteration 4000 nan\n",
      "Loss at iteration 4500 nan\n",
      "time taken: 2.208975076675415\n",
      "[batch_alpha0.01_lambda0.5] Accuracy: 0.2628, Weighted F1: 0.1094\n",
      "🏃 View run batch_alpha0.01_lambda0.5 at: https://mlflow.ml.brain.cs.ait.ac.th/#/experiments/116411965365937607/runs/ccc3a22b194d486384e83cd88c8c3442\n",
      "🧪 View experiment at: https://mlflow.ml.brain.cs.ait.ac.th/#/experiments/116411965365937607\n",
      "Loss at iteration 0 9240.971182589881\n",
      "Loss at iteration 500 11188.577286370219\n",
      "Loss at iteration 1000 9758.821670241134\n",
      "Loss at iteration 1500 6426.050996088058\n",
      "Loss at iteration 2000 13515.220440411324\n",
      "Loss at iteration 2500 7565.082198843255\n",
      "Loss at iteration 3000 8583.606519834586\n",
      "Loss at iteration 3500 5923.977493698062\n",
      "Loss at iteration 4000 14805.240866363092\n",
      "Loss at iteration 4500 10276.653856171037\n",
      "time taken: 2.5277373790740967\n",
      "[batch_alpha0.001_lambda0] Accuracy: 0.3885, Weighted F1: 0.4771\n",
      "🏃 View run batch_alpha0.001_lambda0 at: https://mlflow.ml.brain.cs.ait.ac.th/#/experiments/116411965365937607/runs/dbe26b8554cb41388f8579d69780130e\n",
      "🧪 View experiment at: https://mlflow.ml.brain.cs.ait.ac.th/#/experiments/116411965365937607\n",
      "Loss at iteration 0 8313.324194837005\n",
      "Loss at iteration 500 8392.459279309\n",
      "Loss at iteration 1000 6549.782144359524\n",
      "Loss at iteration 1500 8331.58410113178\n",
      "Loss at iteration 2000 7116.343598285963\n",
      "Loss at iteration 2500 10036.714788392748\n",
      "Loss at iteration 3000 17375.20311818358\n",
      "Loss at iteration 3500 6384.519824956058\n",
      "Loss at iteration 4000 13077.969556666925\n",
      "Loss at iteration 4500 7781.498096324356\n",
      "time taken: 2.4789459705352783\n",
      "[batch_alpha0.001_lambda0.1] Accuracy: 0.5048, Weighted F1: 0.4951\n",
      "🏃 View run batch_alpha0.001_lambda0.1 at: https://mlflow.ml.brain.cs.ait.ac.th/#/experiments/116411965365937607/runs/bd05c757e66247159ad334ae0e3129f0\n",
      "🧪 View experiment at: https://mlflow.ml.brain.cs.ait.ac.th/#/experiments/116411965365937607\n",
      "Loss at iteration 0 8177.2741429730695\n",
      "Loss at iteration 500 13027.133519081088\n",
      "Loss at iteration 1000 10007.888481144468\n",
      "Loss at iteration 1500 10021.598563671332\n",
      "Loss at iteration 2000 5999.431260038064\n",
      "Loss at iteration 2500 6999.77180293782\n",
      "Loss at iteration 3000 13092.406256546603\n",
      "Loss at iteration 3500 9504.673684481342\n",
      "Loss at iteration 4000 10662.309066855372\n",
      "Loss at iteration 4500 6867.432534015364\n",
      "time taken: 2.4776206016540527\n",
      "[batch_alpha0.001_lambda0.5] Accuracy: 0.5201, Weighted F1: 0.5743\n",
      "🏃 View run batch_alpha0.001_lambda0.5 at: https://mlflow.ml.brain.cs.ait.ac.th/#/experiments/116411965365937607/runs/8175e08172a049a0a176054c7a54aaa4\n",
      "🧪 View experiment at: https://mlflow.ml.brain.cs.ait.ac.th/#/experiments/116411965365937607\n",
      "Loss at iteration 0 10375.0961563766\n",
      "Loss at iteration 500 5240.963449943953\n",
      "Loss at iteration 1000 5238.843641021802\n",
      "Loss at iteration 1500 5238.800933936236\n",
      "Loss at iteration 2000 5238.799990080004\n",
      "Loss at iteration 2500 5238.7999690002325\n",
      "Loss at iteration 3000 5238.799968528753\n",
      "Loss at iteration 3500 5238.799968518206\n",
      "Loss at iteration 4000 5238.79996851797\n",
      "Loss at iteration 4500 5238.799968517965\n",
      "time taken: 2.4288580417633057\n",
      "[batch_alpha0.0001_lambda0] Accuracy: 0.5944, Weighted F1: 0.5954\n",
      "🏃 View run batch_alpha0.0001_lambda0 at: https://mlflow.ml.brain.cs.ait.ac.th/#/experiments/116411965365937607/runs/97fbcc9fd7474819b8361c7ceed8b621\n",
      "🧪 View experiment at: https://mlflow.ml.brain.cs.ait.ac.th/#/experiments/116411965365937607\n",
      "Loss at iteration 0 8479.882873437833\n",
      "Loss at iteration 500 5244.3155588051795\n",
      "Loss at iteration 1000 5242.422662742825\n",
      "Loss at iteration 1500 5242.389599737676\n",
      "Loss at iteration 2000 5242.38292058638\n",
      "Loss at iteration 2500 5242.375402759086\n",
      "Loss at iteration 3000 5242.367722746117\n",
      "Loss at iteration 3500 5242.36008179143\n",
      "Loss at iteration 4000 5242.3525112813095\n",
      "Loss at iteration 4500 5242.345015270853\n",
      "time taken: 2.4344005584716797\n",
      "[batch_alpha0.0001_lambda0.1] Accuracy: 0.5944, Weighted F1: 0.5954\n",
      "🏃 View run batch_alpha0.0001_lambda0.1 at: https://mlflow.ml.brain.cs.ait.ac.th/#/experiments/116411965365937607/runs/4068f161e708428a814ce7f08073037f\n",
      "🧪 View experiment at: https://mlflow.ml.brain.cs.ait.ac.th/#/experiments/116411965365937607\n",
      "Loss at iteration 0 10725.559872857866\n",
      "Loss at iteration 500 5256.533778362997\n",
      "Loss at iteration 1000 5254.937366230922\n",
      "Loss at iteration 1500 5254.853066113266\n",
      "Loss at iteration 2000 5254.753202614235\n",
      "Loss at iteration 2500 5254.651326666272\n",
      "Loss at iteration 3000 5254.553355921227\n",
      "Loss at iteration 3500 5254.460009971983\n",
      "Loss at iteration 4000 5254.371194740579\n",
      "Loss at iteration 4500 5254.286708054128\n",
      "time taken: 2.458848237991333\n",
      "[batch_alpha0.0001_lambda0.5] Accuracy: 0.5949, Weighted F1: 0.5958\n",
      "🏃 View run batch_alpha0.0001_lambda0.5 at: https://mlflow.ml.brain.cs.ait.ac.th/#/experiments/116411965365937607/runs/38a0b887cc4746b89a5414bf916cfbea\n",
      "🧪 View experiment at: https://mlflow.ml.brain.cs.ait.ac.th/#/experiments/116411965365937607\n",
      "Loss at iteration 0 1398.806516072672\n",
      "Loss at iteration 500 6161.238842857538\n",
      "Loss at iteration 1000 2889.2980527247996\n",
      "Loss at iteration 1500 3327.974130145984\n",
      "Loss at iteration 2000 12011.493975295216\n",
      "Loss at iteration 2500 8719.121096701168\n",
      "Loss at iteration 3000 9040.650037846863\n",
      "Loss at iteration 3500 4102.39397388239\n",
      "Loss at iteration 4000 7418.309392326729\n",
      "Loss at iteration 4500 15175.651496557079\n",
      "time taken: 0.7610452175140381\n",
      "[minibatch_alpha0.01_lambda0] Accuracy: 0.4782, Weighted F1: 0.4518\n",
      "🏃 View run minibatch_alpha0.01_lambda0 at: https://mlflow.ml.brain.cs.ait.ac.th/#/experiments/116411965365937607/runs/2ae57779ff304930a042b7fcfa81b25c\n",
      "🧪 View experiment at: https://mlflow.ml.brain.cs.ait.ac.th/#/experiments/116411965365937607\n",
      "Loss at iteration 0 2909.06508384254\n",
      "Loss at iteration 500 12610.235555246954\n",
      "Loss at iteration 1000 8104.7043834272345\n",
      "Loss at iteration 1500 4477.232882717113\n",
      "Loss at iteration 2000 15736.926979105638\n",
      "Loss at iteration 2500 9273.18336403799\n",
      "Loss at iteration 3000 14400.171071352934\n",
      "Loss at iteration 3500 12252.015687703048\n",
      "Loss at iteration 4000 9213.996705008594\n",
      "Loss at iteration 4500 8928.327345488731\n",
      "time taken: 0.7761063575744629\n",
      "[minibatch_alpha0.01_lambda0.1] Accuracy: 0.3873, Weighted F1: 0.4609\n",
      "🏃 View run minibatch_alpha0.01_lambda0.1 at: https://mlflow.ml.brain.cs.ait.ac.th/#/experiments/116411965365937607/runs/f2a0951a3df64e70b6327fef1364d825\n",
      "🧪 View experiment at: https://mlflow.ml.brain.cs.ait.ac.th/#/experiments/116411965365937607\n",
      "Loss at iteration 0 3198.7493562134014\n",
      "Loss at iteration 500 4480.593855641852\n",
      "Loss at iteration 1000 5980.931223034091\n",
      "Loss at iteration 1500 2464.167677308913\n",
      "Loss at iteration 2000 6412.16844831583\n",
      "Loss at iteration 2500 17802.499452437947\n",
      "Loss at iteration 3000 5614.3854619027525\n",
      "Loss at iteration 3500 14487.11240223372\n",
      "Loss at iteration 4000 4718.311281765789\n",
      "Loss at iteration 4500 9580.105026865936\n",
      "time taken: 0.796130895614624\n",
      "[minibatch_alpha0.01_lambda0.5] Accuracy: 0.4985, Weighted F1: 0.4808\n",
      "🏃 View run minibatch_alpha0.01_lambda0.5 at: https://mlflow.ml.brain.cs.ait.ac.th/#/experiments/116411965365937607/runs/f270dd3e99174c76aa2167e711dc6acd\n",
      "🧪 View experiment at: https://mlflow.ml.brain.cs.ait.ac.th/#/experiments/116411965365937607\n",
      "Loss at iteration 0 2874.8400961809593\n",
      "Loss at iteration 500 1545.620870761878\n",
      "Loss at iteration 1000 570.3477705451932\n",
      "Loss at iteration 1500 477.480227683047\n",
      "Loss at iteration 2000 1227.820575583678\n",
      "Loss at iteration 2500 1557.4630555719336\n",
      "Loss at iteration 3000 1566.6261838142577\n",
      "Loss at iteration 3500 1551.301892071665\n",
      "Loss at iteration 4000 1533.3616546423843\n",
      "Loss at iteration 4500 1549.2171899655716\n",
      "time taken: 0.7357773780822754\n",
      "[minibatch_alpha0.001_lambda0] Accuracy: 0.5882, Weighted F1: 0.5882\n",
      "🏃 View run minibatch_alpha0.001_lambda0 at: https://mlflow.ml.brain.cs.ait.ac.th/#/experiments/116411965365937607/runs/00931de0f99d4a37b4019cdeba8b0c9d\n",
      "🧪 View experiment at: https://mlflow.ml.brain.cs.ait.ac.th/#/experiments/116411965365937607\n",
      "Loss at iteration 0 2840.937944504731\n",
      "Loss at iteration 500 1531.9070985961773\n",
      "Loss at iteration 1000 1555.8650891075604\n",
      "Loss at iteration 1500 58.92016706202884\n",
      "Loss at iteration 2000 639.0784256481732\n",
      "Loss at iteration 2500 1567.5831023923442\n",
      "Loss at iteration 3000 1573.8412037175153\n",
      "Loss at iteration 3500 1575.8703241731826\n",
      "Loss at iteration 4000 955.7276990001103\n",
      "Loss at iteration 4500 1558.6014741302977\n",
      "time taken: 0.7649121284484863\n",
      "[minibatch_alpha0.001_lambda0.1] Accuracy: 0.5924, Weighted F1: 0.5918\n",
      "🏃 View run minibatch_alpha0.001_lambda0.1 at: https://mlflow.ml.brain.cs.ait.ac.th/#/experiments/116411965365937607/runs/22072056cced452bbe51e4bb8224c58f\n",
      "🧪 View experiment at: https://mlflow.ml.brain.cs.ait.ac.th/#/experiments/116411965365937607\n",
      "Loss at iteration 0 2603.3482601075802\n",
      "Loss at iteration 500 1564.2396190297777\n",
      "Loss at iteration 1000 1553.6929425495841\n",
      "Loss at iteration 1500 1545.0982604493756\n",
      "Loss at iteration 2000 1559.5302077997942\n",
      "Loss at iteration 2500 1584.6883830567178\n",
      "Loss at iteration 3000 1598.924298690771\n",
      "Loss at iteration 3500 1553.5361911806604\n",
      "Loss at iteration 4000 1595.3693004272282\n",
      "Loss at iteration 4500 870.3298847506998\n",
      "time taken: 0.7462329864501953\n",
      "[minibatch_alpha0.001_lambda0.5] Accuracy: 0.5957, Weighted F1: 0.5925\n",
      "🏃 View run minibatch_alpha0.001_lambda0.5 at: https://mlflow.ml.brain.cs.ait.ac.th/#/experiments/116411965365937607/runs/1bd136e52ef1430fae1903284228c164\n",
      "🧪 View experiment at: https://mlflow.ml.brain.cs.ait.ac.th/#/experiments/116411965365937607\n",
      "Loss at iteration 0 990.5449688051624\n",
      "Loss at iteration 500 766.4259545972809\n",
      "Loss at iteration 1000 1580.9014009992848\n",
      "Loss at iteration 1500 1569.9817697574947\n",
      "Loss at iteration 2000 1542.9055480971415\n",
      "Loss at iteration 2500 1542.2106115904635\n",
      "Loss at iteration 3000 1553.8358565214855\n",
      "Loss at iteration 3500 1561.7080621737546\n",
      "Loss at iteration 4000 1481.340334055089\n",
      "Loss at iteration 4500 1535.4373480374186\n",
      "time taken: 0.7150735855102539\n",
      "[minibatch_alpha0.0001_lambda0] Accuracy: 0.5890, Weighted F1: 0.5908\n",
      "🏃 View run minibatch_alpha0.0001_lambda0 at: https://mlflow.ml.brain.cs.ait.ac.th/#/experiments/116411965365937607/runs/cb9a1630484c4584b92ef44707329524\n",
      "🧪 View experiment at: https://mlflow.ml.brain.cs.ait.ac.th/#/experiments/116411965365937607\n",
      "Loss at iteration 0 2785.8372178436834\n",
      "Loss at iteration 500 1580.472621018108\n",
      "Loss at iteration 1000 1569.390950935446\n",
      "Loss at iteration 1500 748.1983712167034\n",
      "Loss at iteration 2000 1561.6373851810354\n",
      "Loss at iteration 2500 1021.560194254472\n",
      "Loss at iteration 3000 1581.2504912569261\n",
      "Loss at iteration 3500 1453.0245629001129\n",
      "Loss at iteration 4000 1361.2684855254402\n",
      "Loss at iteration 4500 1559.619123429506\n",
      "time taken: 0.7381405830383301\n",
      "[minibatch_alpha0.0001_lambda0.1] Accuracy: 0.5866, Weighted F1: 0.5892\n",
      "🏃 View run minibatch_alpha0.0001_lambda0.1 at: https://mlflow.ml.brain.cs.ait.ac.th/#/experiments/116411965365937607/runs/33b9b7f414f24d7eae2d525e6c52ca3e\n",
      "🧪 View experiment at: https://mlflow.ml.brain.cs.ait.ac.th/#/experiments/116411965365937607\n",
      "Loss at iteration 0 140.39199966357378\n",
      "Loss at iteration 500 1584.2935611166092\n",
      "Loss at iteration 1000 1604.262461675928\n",
      "Loss at iteration 1500 1558.7969726954063\n",
      "Loss at iteration 2000 1575.8697963807456\n",
      "Loss at iteration 2500 1594.7869182477086\n",
      "Loss at iteration 3000 1560.000348676328\n",
      "Loss at iteration 3500 1558.2090067419545\n",
      "Loss at iteration 4000 876.0600944305123\n",
      "Loss at iteration 4500 1577.8546725279425\n",
      "time taken: 0.750450611114502\n",
      "[minibatch_alpha0.0001_lambda0.5] Accuracy: 0.5874, Weighted F1: 0.5889\n",
      "🏃 View run minibatch_alpha0.0001_lambda0.5 at: https://mlflow.ml.brain.cs.ait.ac.th/#/experiments/116411965365937607/runs/16089bc858984d2bbd5e78b221716fe0\n",
      "🧪 View experiment at: https://mlflow.ml.brain.cs.ait.ac.th/#/experiments/116411965365937607\n",
      "Loss at iteration 0 1.6285659993447568\n",
      "Loss at iteration 500 1.0232938220057968\n",
      "Loss at iteration 1000 0.2156055471280893\n",
      "Loss at iteration 1500 0.2809917185853443\n",
      "Loss at iteration 2000 0.07912124784237706\n",
      "Loss at iteration 2500 1.4242425282650852\n",
      "Loss at iteration 3000 1.4607681143492328\n",
      "Loss at iteration 3500 0.8589822073958717\n",
      "Loss at iteration 4000 1.1513806601822891\n",
      "Loss at iteration 4500 1.2907845576627832\n",
      "time taken: 0.20374369621276855\n",
      "[sto_alpha0.01_lambda0] Accuracy: 0.5745, Weighted F1: 0.5821\n",
      "🏃 View run sto_alpha0.01_lambda0 at: https://mlflow.ml.brain.cs.ait.ac.th/#/experiments/116411965365937607/runs/6d558f6ad4e84068bcfdf64fa0d451d6\n",
      "🧪 View experiment at: https://mlflow.ml.brain.cs.ait.ac.th/#/experiments/116411965365937607\n",
      "Loss at iteration 0 3.019527813047888\n",
      "Loss at iteration 500 1.7742397448598575\n",
      "Loss at iteration 1000 0.6862171344596011\n",
      "Loss at iteration 1500 1.4838909571828778\n",
      "Loss at iteration 2000 1.221982016584449\n",
      "Loss at iteration 2500 0.5194496909620682\n",
      "Loss at iteration 3000 1.5198249198844636\n",
      "Loss at iteration 3500 1.5254424240224855\n",
      "Loss at iteration 4000 1.730759831631525\n",
      "Loss at iteration 4500 1.2403196558375003\n",
      "time taken: 0.23082685470581055\n",
      "[sto_alpha0.01_lambda0.1] Accuracy: 0.4658, Weighted F1: 0.4521\n",
      "🏃 View run sto_alpha0.01_lambda0.1 at: https://mlflow.ml.brain.cs.ait.ac.th/#/experiments/116411965365937607/runs/483a016da64e48e28604053a6b384106\n",
      "🧪 View experiment at: https://mlflow.ml.brain.cs.ait.ac.th/#/experiments/116411965365937607\n",
      "Loss at iteration 0 5.063307299944536\n",
      "Loss at iteration 500 0.8355513113910027\n",
      "Loss at iteration 1000 1.1821197729501187\n",
      "Loss at iteration 1500 0.9551448452414698\n",
      "Loss at iteration 2000 1.498300550468382\n",
      "Loss at iteration 2500 1.2697536424849691\n",
      "Loss at iteration 3000 1.4622318719933993\n",
      "Loss at iteration 3500 1.1831189868638667\n",
      "Loss at iteration 4000 1.3022357824563238\n",
      "Loss at iteration 4500 1.4474687884846364\n",
      "time taken: 0.23133444786071777\n",
      "[sto_alpha0.01_lambda0.5] Accuracy: 0.4824, Weighted F1: 0.4211\n",
      "🏃 View run sto_alpha0.01_lambda0.5 at: https://mlflow.ml.brain.cs.ait.ac.th/#/experiments/116411965365937607/runs/3b495d08177b46f788a0cc70d563b9fe\n",
      "🧪 View experiment at: https://mlflow.ml.brain.cs.ait.ac.th/#/experiments/116411965365937607\n",
      "Loss at iteration 0 1.2588729506585108\n",
      "Loss at iteration 500 1.0939282318404637\n",
      "Loss at iteration 1000 1.0843678668304406\n",
      "Loss at iteration 1500 0.5029380776799308\n",
      "Loss at iteration 2000 1.139913811735326\n",
      "Loss at iteration 2500 1.2710296583274547\n",
      "Loss at iteration 3000 1.3915512405258563\n",
      "Loss at iteration 3500 0.9809095854059361\n",
      "Loss at iteration 4000 1.8869524598201441\n",
      "Loss at iteration 4500 1.1865910370253079\n",
      "time taken: 0.20604157447814941\n",
      "[sto_alpha0.001_lambda0] Accuracy: 0.4882, Weighted F1: 0.4872\n",
      "🏃 View run sto_alpha0.001_lambda0 at: https://mlflow.ml.brain.cs.ait.ac.th/#/experiments/116411965365937607/runs/6137b51cec6e46018cb57756c8800eb9\n",
      "🧪 View experiment at: https://mlflow.ml.brain.cs.ait.ac.th/#/experiments/116411965365937607\n",
      "Loss at iteration 0 2.9222454986896427\n",
      "Loss at iteration 500 2.6003440074177906\n",
      "Loss at iteration 1000 2.220047826661515\n",
      "Loss at iteration 1500 2.6357901964854324\n",
      "Loss at iteration 2000 1.9206795192733335\n",
      "Loss at iteration 2500 2.0970998119651023\n",
      "Loss at iteration 3000 2.680280223611144\n",
      "Loss at iteration 3500 1.0632800079335187\n",
      "Loss at iteration 4000 1.5585758191063586\n",
      "Loss at iteration 4500 1.1347795397188647\n",
      "time taken: 0.23002839088439941\n",
      "[sto_alpha0.001_lambda0.1] Accuracy: 0.4869, Weighted F1: 0.4771\n",
      "🏃 View run sto_alpha0.001_lambda0.1 at: https://mlflow.ml.brain.cs.ait.ac.th/#/experiments/116411965365937607/runs/66c5e0f2824e4ec7bd59d6d76ca14c0f\n",
      "🧪 View experiment at: https://mlflow.ml.brain.cs.ait.ac.th/#/experiments/116411965365937607\n",
      "Loss at iteration 0 5.436030258793004\n",
      "Loss at iteration 500 4.049324240850065\n",
      "Loss at iteration 1000 2.5170168638880366\n",
      "Loss at iteration 1500 2.043063788558414\n",
      "Loss at iteration 2000 1.7415972692614488\n",
      "Loss at iteration 2500 1.8397563399795334\n",
      "Loss at iteration 3000 1.6709910293482966\n",
      "Loss at iteration 3500 1.2172799662135427\n",
      "Loss at iteration 4000 1.4725600133475258\n",
      "Loss at iteration 4500 1.4665145745550547\n",
      "time taken: 0.2301037311553955\n",
      "[sto_alpha0.001_lambda0.5] Accuracy: 0.4321, Weighted F1: 0.3571\n",
      "🏃 View run sto_alpha0.001_lambda0.5 at: https://mlflow.ml.brain.cs.ait.ac.th/#/experiments/116411965365937607/runs/23a6e8baa92a4b15adfc21ccd2704a50\n",
      "🧪 View experiment at: https://mlflow.ml.brain.cs.ait.ac.th/#/experiments/116411965365937607\n",
      "Loss at iteration 0 1.070107666554376\n",
      "Loss at iteration 500 2.15771933956889\n",
      "Loss at iteration 1000 0.5293430148484256\n",
      "Loss at iteration 1500 2.4918050807110723\n",
      "Loss at iteration 2000 1.2082763425639287\n",
      "Loss at iteration 2500 1.6769351569686473\n",
      "Loss at iteration 3000 1.363468745478874\n",
      "Loss at iteration 3500 0.42746606370420515\n",
      "Loss at iteration 4000 1.365958180304571\n",
      "Loss at iteration 4500 1.4640868184468012\n",
      "time taken: 0.20346426963806152\n",
      "[sto_alpha0.0001_lambda0] Accuracy: 0.2935, Weighted F1: 0.2757\n",
      "🏃 View run sto_alpha0.0001_lambda0 at: https://mlflow.ml.brain.cs.ait.ac.th/#/experiments/116411965365937607/runs/78bd2234fcc941cc9cb9b27e87af93d2\n",
      "🧪 View experiment at: https://mlflow.ml.brain.cs.ait.ac.th/#/experiments/116411965365937607\n",
      "Loss at iteration 0 2.3207440106781396\n",
      "Loss at iteration 500 2.688622792271828\n",
      "Loss at iteration 1000 2.137400191739562\n",
      "Loss at iteration 1500 1.90200845718371\n",
      "Loss at iteration 2000 1.7709644039140615\n",
      "Loss at iteration 2500 2.1100945977570307\n",
      "Loss at iteration 3000 3.179905384821651\n",
      "Loss at iteration 3500 1.606752722178129\n",
      "Loss at iteration 4000 2.0464072111536296\n",
      "Loss at iteration 4500 2.7822259802376035\n",
      "time taken: 0.23281311988830566\n",
      "[sto_alpha0.0001_lambda0.1] Accuracy: 0.4101, Weighted F1: 0.4007\n",
      "🏃 View run sto_alpha0.0001_lambda0.1 at: https://mlflow.ml.brain.cs.ait.ac.th/#/experiments/116411965365937607/runs/a0b5d5f979a24304bc509db1f8674ded\n",
      "🧪 View experiment at: https://mlflow.ml.brain.cs.ait.ac.th/#/experiments/116411965365937607\n",
      "Loss at iteration 0 6.424355152895009\n",
      "Loss at iteration 500 6.358128029816942\n",
      "Loss at iteration 1000 5.977563524781791\n",
      "Loss at iteration 1500 5.5747109720974946\n",
      "Loss at iteration 2000 5.280154491655812\n",
      "Loss at iteration 2500 5.185640648898431\n",
      "Loss at iteration 3000 5.283157152742544\n",
      "Loss at iteration 3500 5.37711321952319\n",
      "Loss at iteration 4000 4.577492157887493\n",
      "Loss at iteration 4500 4.6461693678553555\n",
      "time taken: 0.23160624504089355\n",
      "[sto_alpha0.0001_lambda0.5] Accuracy: 0.3790, Weighted F1: 0.4043\n",
      "🏃 View run sto_alpha0.0001_lambda0.5 at: https://mlflow.ml.brain.cs.ait.ac.th/#/experiments/116411965365937607/runs/196251c6d8a94e77979a54148990b0ba\n",
      "🧪 View experiment at: https://mlflow.ml.brain.cs.ait.ac.th/#/experiments/116411965365937607\n"
     ]
    }
   ],
   "source": [
    "import itertools\n",
    "\n",
    "for method, alpha, lambda_ in itertools.product(methods, alphas, lambdas):\n",
    "    run_name = f\"{method}_alpha{alpha}_lambda{lambda_}\"\n",
    "    \n",
    "    if mlflow.active_run():\n",
    "        mlflow.end_run()\n",
    "    \n",
    "    with mlflow.start_run(run_name=run_name):\n",
    "        # ✅ Train Model\n",
    "        use_penalty = lambda_ > 0\n",
    "        model = LogisticRegression(k, X_train.shape[1], method=method,\n",
    "                                   alpha=alpha, max_iter=5000,\n",
    "                                   use_penalty=use_penalty, lambda_=lambda_)\n",
    "        model.fit(X_train, Y_train_encoded)\n",
    "\n",
    "        yhat = model.predict(X_test)\n",
    "        acc = model.accuracy(y_test, yhat)\n",
    "        macro_prec = model.macro_precision(y_test, yhat, k)\n",
    "        weighted_f1 = model.weighted_f1(y_test, yhat, k)\n",
    "\n",
    "        # ✅ Log Parameters\n",
    "        mlflow.log_param(\"method\", method)\n",
    "        mlflow.log_param(\"alpha\", alpha)\n",
    "        mlflow.log_param(\"lambda\", lambda_)\n",
    "\n",
    "        # ✅ Log Metrics\n",
    "        mlflow.log_metric(\"accuracy\", acc)\n",
    "        mlflow.log_metric(\"macro_precision\", macro_prec)\n",
    "        mlflow.log_metric(\"weighted_f1\", weighted_f1)\n",
    "\n",
    "        print(f\"[{run_name}] Accuracy: {acc:.4f}, Weighted F1: {weighted_f1:.4f}\")\n"
   ]
  },
  {
   "cell_type": "markdown",
   "metadata": {},
   "source": [
    "#### Grid Search Results (Objective 1)\n",
    "\n",
    "I performed grid search using different learning rates (`alpha`), optimization methods (`method`), and L2 regularization strengths (`lambda_`). Each combination was evaluated and logged in MLflow.\n",
    "\n",
    "**Best performing configuration:**\n",
    "- Method: `minibatch` (stochastic gradient descent)\n",
    "- Alpha: `0.0001`\n",
    "- Lambda: `0.5`\n",
    "- Accuracy: **0.59**\n",
    "- Macro Precision: **0.59**\n",
    "- Weighted F1: **0.59**\n",
    "\n",
    "This configuration will be used to retrain and log the final model for deployment in Task 3.\n"
   ]
  },
  {
   "cell_type": "markdown",
   "metadata": {},
   "source": [
    "- Objective 2: Deploy the Model."
   ]
  },
  {
   "cell_type": "code",
   "execution_count": 72,
   "metadata": {},
   "outputs": [
    {
     "name": "stderr",
     "output_type": "stream",
     "text": [
      "e:\\Jan_2025\\ML\\A3\\A3_env\\lib\\site-packages\\mlflow\\pyfunc\\utils\\data_validation.py:186: UserWarning: \u001b[33mAdd type hints to the `predict` method to enable data validation and automatic signature inference during model logging. Check https://mlflow.org/docs/latest/model/python_model.html#type-hint-usage-in-pythonmodel for more details.\u001b[0m\n",
      "  color_warning(\n"
     ]
    }
   ],
   "source": [
    "#Create a wrapper class for pyfunc\n",
    "import mlflow.pyfunc\n",
    "\n",
    "class LogisticRegressionWrapper(mlflow.pyfunc.PythonModel):\n",
    "    def __init__(self, model):\n",
    "        self.model = model \n",
    "\n",
    "    def predict(self, context, model_input):\n",
    "        # model_input is np.array\n",
    "        if isinstance(model_input, pd.DataFrame):\n",
    "            model_input = model_input.values\n",
    "        return self.model.predict(model_input)"
   ]
  },
  {
   "cell_type": "code",
   "execution_count": null,
   "metadata": {},
   "outputs": [
    {
     "name": "stdout",
     "output_type": "stream",
     "text": [
      "Loss at iteration 0 1653.2040730340366\n",
      "Loss at iteration 500 412.40205638335266\n",
      "Loss at iteration 1000 1572.2240439228924\n",
      "Loss at iteration 1500 661.347579553509\n",
      "Loss at iteration 2000 994.3893046375449\n",
      "Loss at iteration 2500 1562.3235968751414\n",
      "Loss at iteration 3000 1556.8054446013925\n",
      "Loss at iteration 3500 1593.9171832730485\n",
      "Loss at iteration 4000 1594.7717956310657\n",
      "Loss at iteration 4500 370.1717040733701\n",
      "time taken: 0.7543256282806396\n"
     ]
    },
    {
     "name": "stderr",
     "output_type": "stream",
     "text": [
      "2025/04/05 19:32:00 WARNING mlflow.models.model: Model logged without a signature and input example. Please set `input_example` parameter when logging the model to auto infer the model signature.\n",
      "Successfully registered model 'car_price_classifier'.\n",
      "2025/04/05 19:32:02 INFO mlflow.store.model_registry.abstract_store: Waiting up to 300 seconds for model version to finish creation. Model name: car_price_classifier, version 1\n",
      "Created version '1' of model 'car_price_classifier'.\n"
     ]
    },
    {
     "name": "stdout",
     "output_type": "stream",
     "text": [
      "🏃 View run final_model_log at: https://mlflow.ml.brain.cs.ait.ac.th/#/experiments/116411965365937607/runs/c592fd0b773c47c2b37bb4a213d332cb\n",
      "🧪 View experiment at: https://mlflow.ml.brain.cs.ait.ac.th/#/experiments/116411965365937607\n"
     ]
    }
   ],
   "source": [
    "#Log final model to MLflow\n",
    "final_model = LogisticRegression(\n",
    "    k=k,\n",
    "    n=X_train.shape[1],\n",
    "    method=\"minibatch\",\n",
    "    alpha=0.0001,\n",
    "    max_iter=5000,\n",
    "    use_penalty=True,\n",
    "    lambda_=0.5\n",
    ")\n",
    "\n",
    "final_model.fit(X_train, Y_train_encoded)\n",
    "yhat = final_model.predict(X_test)\n",
    "\n",
    "with mlflow.start_run(run_name=\"final_model_log\"):\n",
    "    # Log params and metrics\n",
    "    mlflow.log_param(\"method\", final_model.method)\n",
    "    mlflow.log_param(\"alpha\", final_model.alpha)\n",
    "    mlflow.log_param(\"lambda\", final_model.lambda_)\n",
    "    mlflow.log_param(\"use_penalty\", final_model.use_penalty)\n",
    "    \n",
    "    acc = final_model.accuracy(y_test, yhat)\n",
    "    mlflow.log_metric(\"accuracy\", acc)\n",
    "\n",
    "    # Log model\n",
    "    mlflow.pyfunc.log_model(\n",
    "        artifact_path=\"model\",\n",
    "        python_model=LogisticRegressionWrapper(final_model),\n",
    "        registered_model_name=\"st124879-a3-model\"\n",
    "    )"
   ]
  },
  {
   "cell_type": "code",
   "execution_count": null,
   "metadata": {},
   "outputs": [
    {
     "data": {
      "text/plain": [
       "array([2, 3, 0, ..., 0, 3, 0])"
      ]
     },
     "execution_count": 74,
     "metadata": {},
     "output_type": "execute_result"
    }
   ],
   "source": [
    "#Test download model and use\n",
    "loaded_model = mlflow.pyfunc.load_model(\"models:/st124879-a3-model/1\")\n",
    "loaded_model.predict(X_test)"
   ]
  },
  {
   "cell_type": "markdown",
   "metadata": {},
   "source": [
    "I wrapped my custom LogisticRegression model using `mlflow.pyfunc.PythonModel` and registered it as `car_price_classifier`. This allows the model to be versioned and deployed through MLflow. The model was logged along with its hyperparameters and accuracy metric."
   ]
  },
  {
   "cell_type": "markdown",
   "metadata": {},
   "source": [
    "- Objective 3: CI/CD."
   ]
  },
  {
   "cell_type": "markdown",
   "metadata": {},
   "source": [
    "I created unit tests to validate our custom logistic regression model. The first test checks whether the model accepts input with the expected shape. The second test ensures that the output has the correct shape."
   ]
  },
  {
   "cell_type": "code",
   "execution_count": null,
   "metadata": {},
   "outputs": [],
   "source": [
    "#test_model.py\n",
    "import unittest\n",
    "import numpy as np\n",
    "from LogisticRegression import LogisticRegression\n",
    "\n",
    "class TestLogisticRegression(unittest.TestCase):\n",
    "    def setUp(self):\n",
    "        # Create model with weight like mock\n",
    "        self.model = LogisticRegression(k=4, n=5, method='batch', use_penalty=False)\n",
    "        self.model.W = np.random.rand(5, 4)\n",
    "\n",
    "    def test_model_input(self):\n",
    "        X_sample = np.random.rand(10, 5)  # (m=10, n=5)\n",
    "        try:\n",
    "            self.model.predict(X_sample)\n",
    "        except Exception as e:\n",
    "            self.fail(f\"Model failed with valid input: {e}\")\n",
    "\n",
    "    def test_model_output_shape(self):\n",
    "        X_sample = np.random.rand(7, 5)\n",
    "        pred = self.model.predict(X_sample)\n",
    "        self.assertEqual(pred.shape, (7,))"
   ]
  },
  {
   "cell_type": "markdown",
   "metadata": {},
   "source": [
    "I created train.py following below."
   ]
  },
  {
   "cell_type": "code",
   "execution_count": null,
   "metadata": {},
   "outputs": [],
   "source": [
    "import os\n",
    "import pandas as pd\n",
    "import numpy as np\n",
    "from sklearn.model_selection import train_test_split\n",
    "from sklearn.preprocessing import StandardScaler\n",
    "import joblib\n",
    "import mlflow\n",
    "import mlflow.pyfunc\n",
    "from LogisticRegression import LogisticRegression\n",
    "\n",
    "# === Load data and preprocessin ===\n",
    "df = pd.read_csv(\"Cars.csv\")\n",
    "\n",
    "owner_mapping = {\n",
    "    'First Owner': 1,\n",
    "    'Second Owner': 2,\n",
    "    'Third Owner': 3,\n",
    "    'Fourth & Above Owner': 4,\n",
    "    'Test Drive Car': 5\n",
    "}\n",
    "df[\"owner\"] = df[\"owner\"].map(owner_mapping)\n",
    "\n",
    "df = df[~df[\"fuel\"].isin([\"CNG\", \"LPG\"])]\n",
    "\n",
    "df[\"mileage\"] = df[\"mileage\"].str.split(\" \").str[0].astype(float)\n",
    "df[\"engine\"] = df[\"engine\"].str.split(\" \").str[0].astype(float)\n",
    "df[\"max_power\"] = df[\"max_power\"].str.split(\" \").str[0].astype(float)\n",
    "\n",
    "df = df.drop(columns=[\n",
    "    'name', 'year', 'fuel', 'seller_type', 'transmission', 'torque', 'seats'\n",
    "])\n",
    "\n",
    "df['selling_price'] = pd.qcut(df['selling_price'], q=4, labels=[0, 1, 2, 3])\n",
    "\n",
    "df = df[df[\"owner\"] != 5]\n",
    "\n",
    "X = df[['km_driven', 'owner', 'mileage', 'engine', 'max_power']]\n",
    "y = df['selling_price'].astype(int)\n",
    "\n",
    "X_train, X_test, y_train, y_test = train_test_split(\n",
    "    X, y, test_size=0.3, random_state=42)\n",
    "\n",
    "for col in ['mileage', 'engine', 'max_power']:\n",
    "    X_train[col].fillna(X_train[col].median(), inplace=True)\n",
    "    X_test[col].fillna(X_train[col].median(), inplace=True)\n",
    "\n",
    "features_to_scale = ['km_driven', 'mileage', 'engine', 'max_power']\n",
    "scaler = StandardScaler()\n",
    "X_train[features_to_scale] = scaler.fit_transform(X_train[features_to_scale])\n",
    "X_test[features_to_scale] = scaler.transform(X_test[features_to_scale])\n",
    "joblib.dump(scaler, 'scaler.pkl')\n",
    "\n",
    "k = len(y.unique())\n",
    "Y_train_encoded = np.zeros((y_train.shape[0], k))\n",
    "for i, label in enumerate(y_train):\n",
    "    Y_train_encoded[i, label] = 1\n",
    "\n",
    "# === Train model ===\n",
    "model = LogisticRegression(\n",
    "    k=k,\n",
    "    n=X_train.shape[1],\n",
    "    method=\"sto\",\n",
    "    alpha=0.01,\n",
    "    max_iter=5000,\n",
    "    use_penalty=False,\n",
    "    lambda_=0\n",
    ") \n",
    "model.fit(X_train.values, Y_train_encoded)\n",
    "yhat = model.predict(X_test.values)\n",
    "\n",
    "class LogisticRegressionWrapper(mlflow.pyfunc.PythonModel):\n",
    "    def __init__(self, model):\n",
    "        self.model = model\n",
    "    def predict(self, context, model_input):\n",
    "        if isinstance(model_input, pd.DataFrame):\n",
    "            model_input = model_input.values\n",
    "        return self.model.predict(model_input)\n",
    "\n",
    "# === Log to MLflow ===\n",
    "mlflow.set_tracking_uri(\"https://mlflow.ml.brain.cs.ait.ac.th/\")\n",
    "mlflow.set_experiment(\"st124879-a3\")\n",
    "os.environ['MLFLOW_TRACKING_USERNAME'] = 'admin'\n",
    "os.environ['MLFLOW_TRACKING_PASSWORD'] = 'password'\n",
    "\n",
    "with mlflow.start_run(run_name=\"final_model_log\"):\n",
    "    mlflow.log_param(\"method\", model.method)\n",
    "    mlflow.log_param(\"alpha\", model.alpha)\n",
    "    mlflow.log_param(\"lambda\", model.lambda_)\n",
    "    mlflow.log_param(\"use_penalty\", model.use_penalty)\n",
    "    mlflow.log_metric(\"accuracy\", model.accuracy(y_test.values, yhat))\n",
    "\n",
    "    mlflow.pyfunc.log_model(\n",
    "        artifact_path=\"model\",\n",
    "        python_model=LogisticRegressionWrapper(model),\n",
    "        registered_model_name=\"st124879-a3-model\"\n",
    "    )\n",
    "\n",
    "print(\"✅ Training complete and model logged to MLflow.\")"
   ]
  },
  {
   "cell_type": "markdown",
   "metadata": {},
   "source": [
    "After that, I made a requirements.txt file with mlflow, numpy, pandas, scikit-learn, and joblib. I also made a LogisticRegression.py file with my own LogisticRegression class."
   ]
  },
  {
   "cell_type": "markdown",
   "metadata": {},
   "source": [
    "#### GitHub Actions Workflow: .github/workflows/test.yml\n",
    "\n",
    "To enable continuous integration (CI), I created a GitHub Actions workflow file named `test.yml` under `.github/workflows/`.\n",
    "\n",
    "This workflow is automatically triggered whenever I push new commits to the `main` branch. It performs the following steps:\n",
    "\n",
    "1. **Check out the repository** – It pulls the latest version of the code.\n",
    "2. **Set up the Python environment** – Installs Python 3.9.\n",
    "3. **Install dependencies** – Installs all required libraries from `requirements.txt`.\n",
    "4. **Run unit tests** – Runs the test script `test_model.py` to ensure that the logistic regression model handles input and output correctly.\n",
    "5. **Train and log the model** – If the test passes, the workflow runs `train.py` to train and log the model to the MLflow server.\n",
    "\n",
    "This CI pipeline helps ensure that every update to the code is tested and that the latest model version is always available and reproducible.\n"
   ]
  },
  {
   "cell_type": "markdown",
   "metadata": {},
   "source": [
    "In this objective, I implemented a basic CI/CD pipeline.  \n",
    "I created the following files to support the automation process:\n",
    "\n",
    "- `LogisticRegression.py` – Contains the implementation of multinomial logistic regression.\n",
    "- `train.py` – Loads and preprocesses the dataset, trains the model, and logs it to the MLflow server.\n",
    "- `test_model.py` – Contains unit tests that validate the model's input handling and output shape.\n",
    "- `requirements.txt` – Lists the required Python packages for the project."
   ]
  }
 ],
 "metadata": {
  "kernelspec": {
   "display_name": "A3_env",
   "language": "python",
   "name": "python3"
  },
  "language_info": {
   "codemirror_mode": {
    "name": "ipython",
    "version": 3
   },
   "file_extension": ".py",
   "mimetype": "text/x-python",
   "name": "python",
   "nbconvert_exporter": "python",
   "pygments_lexer": "ipython3",
   "version": "3.9.13"
  }
 },
 "nbformat": 4,
 "nbformat_minor": 2
}
